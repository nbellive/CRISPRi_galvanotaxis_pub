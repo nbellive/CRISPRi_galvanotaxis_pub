{
 "cells": [
  {
   "cell_type": "code",
   "execution_count": 4,
   "metadata": {},
   "outputs": [],
   "source": [
    "import numpy as np\n",
    "import pandas as pd\n",
    "import random\n",
    "\n",
    "import seaborn as sns\n",
    "import matplotlib.pyplot as plt\n",
    "\n",
    "import glob\n"
   ]
  },
  {
   "cell_type": "markdown",
   "metadata": {},
   "source": [
    "The aim here is to select the subset of sgRNAs to be used in a batch rescreen. The main emphasis is on  a galvanotaxis sublibrary, but based on the pricing, I can likely include synthesis of a differentiation and ECM pool -> where I used pool specific primers to amplify each of the desired subsets. \n",
    "\n",
    "Following same assembly as Sanson et al. 2018:\n",
    "5′-[Forward Primer]CGTCTCACACCG[sgRNA, 20 nt]GTTTCGAGACG[Reverse Primer]\n",
    "\n",
    "Primer Set: Forward Primer, 5′ – 3′; Reverse Primer, 5′ – 3′\n",
    "\n",
    "Galvanotaxis; \\\n",
    "AGGCACTTGCTCGTACGACG; ATGTGGGCCCGGCACCTTAA (rev complement: TTAAGGTGCCGGGCCCACAT) \\\n",
    "2660 sgRNA + 250 control sgRNA; 1079 genes \\\n",
    "'AGGCACTTGCTCGTACGACG' + 'CGTCTCACACCG' + 20bp sgRNA + 'GTTTCGAGACG' + 'TTAAGGTGCCGGGCCCACAT' \\\n",
    "\n",
    "ECM; \\\n",
    "GTGTAACCCGTAGGGCACCT; GTCGAGAGCAGTCCTTCGAC (rev complement: GTCGAAGGACTGCTCTCGAC) \\\n",
    "1287 sgRNA + 250 control sgRNA, 487 genes \\\n",
    "'GTGTAACCCGTAGGGCACCT' + 'CGTCTCACACCG' + 20bp sgRNA + 'GTTTCGAGACG' + 'GTCGAAGGACTGCTCTCGAC' \\\n",
    " \n",
    "Differentiation; \\\n",
    "CAGCGCCAATGGGCTTTCGA; AGCCGCTTAAGAGCCTGTCG (rev complement: CGACAGGCTCTTAAGCGGCT) \\\n",
    "1271 sgRNA + 250 control sgRNA, 614 genes \\\n",
    "'CAGCGCCAATGGGCTTTCGA' + 'CGTCTCACACCG' + 20bp sgRNA + 'GTTTCGAGACG' + 'CGACAGGCTCTTAAGCGGCT' \\\n",
    " \n",
    "\n",
    "4; CTACAGGTACCGGTCCTGAG; GTACCTAGCGTGACGATCCG\n"
   ]
  },
  {
   "cell_type": "code",
   "execution_count": 441,
   "metadata": {},
   "outputs": [
    {
     "data": {
      "text/plain": [
       "5974"
      ]
     },
     "execution_count": 441,
     "metadata": {},
     "output_type": "execute_result"
    }
   ],
   "source": [
    "252*3 + 2660 + 1287 + 1271"
   ]
  },
  {
   "cell_type": "code",
   "execution_count": 442,
   "metadata": {},
   "outputs": [
    {
     "data": {
      "text/plain": [
       "7296"
      ]
     },
     "execution_count": 442,
     "metadata": {},
     "output_type": "execute_result"
    }
   ],
   "source": [
    "# if I include 3 sgRNA per gene\n",
    "252*3 +  1079*3 + 487*3 + 614*3"
   ]
  },
  {
   "cell_type": "code",
   "execution_count": 443,
   "metadata": {},
   "outputs": [
    {
     "data": {
      "text/html": [
       "<div>\n",
       "<style scoped>\n",
       "    .dataframe tbody tr th:only-of-type {\n",
       "        vertical-align: middle;\n",
       "    }\n",
       "\n",
       "    .dataframe tbody tr th {\n",
       "        vertical-align: top;\n",
       "    }\n",
       "\n",
       "    .dataframe thead th {\n",
       "        text-align: right;\n",
       "    }\n",
       "</style>\n",
       "<table border=\"1\" class=\"dataframe\">\n",
       "  <thead>\n",
       "    <tr style=\"text-align: right;\">\n",
       "      <th></th>\n",
       "      <th>exp</th>\n",
       "      <th>gene</th>\n",
       "      <th>log2fold_diff_mean</th>\n",
       "      <th>pvalue</th>\n",
       "    </tr>\n",
       "  </thead>\n",
       "  <tbody>\n",
       "    <tr>\n",
       "      <th>0</th>\n",
       "      <td>differentiation</td>\n",
       "      <td>A1BG</td>\n",
       "      <td>0.034291</td>\n",
       "      <td>0.893455</td>\n",
       "    </tr>\n",
       "    <tr>\n",
       "      <th>1</th>\n",
       "      <td>differentiation</td>\n",
       "      <td>A1CF</td>\n",
       "      <td>0.069892</td>\n",
       "      <td>0.626706</td>\n",
       "    </tr>\n",
       "    <tr>\n",
       "      <th>2</th>\n",
       "      <td>differentiation</td>\n",
       "      <td>A2M</td>\n",
       "      <td>0.034423</td>\n",
       "      <td>0.896435</td>\n",
       "    </tr>\n",
       "    <tr>\n",
       "      <th>3</th>\n",
       "      <td>differentiation</td>\n",
       "      <td>A2ML1</td>\n",
       "      <td>-0.026629</td>\n",
       "      <td>0.232870</td>\n",
       "    </tr>\n",
       "    <tr>\n",
       "      <th>4</th>\n",
       "      <td>differentiation</td>\n",
       "      <td>A3GALT2</td>\n",
       "      <td>0.177439</td>\n",
       "      <td>0.018361</td>\n",
       "    </tr>\n",
       "  </tbody>\n",
       "</table>\n",
       "</div>"
      ],
      "text/plain": [
       "               exp     gene  log2fold_diff_mean    pvalue\n",
       "0  differentiation     A1BG            0.034291  0.893455\n",
       "1  differentiation     A1CF            0.069892  0.626706\n",
       "2  differentiation      A2M            0.034423  0.896435\n",
       "3  differentiation    A2ML1           -0.026629  0.232870\n",
       "4  differentiation  A3GALT2            0.177439  0.018361"
      ]
     },
     "execution_count": 443,
     "metadata": {},
     "output_type": "execute_result"
    }
   ],
   "source": [
    "files = glob.glob('../../data/screen_summary/*pvalue*.csv')\n",
    "df = pd.read_csv(files[0])\n",
    "df = df[['exp', 'gene', 'log2fold_diff_mean', 'pvalue']]\n",
    "df.head()"
   ]
  },
  {
   "cell_type": "code",
   "execution_count": 444,
   "metadata": {},
   "outputs": [
    {
     "data": {
      "text/plain": [
       "9.716166958532225e-08"
      ]
     },
     "execution_count": 444,
     "metadata": {},
     "output_type": "execute_result"
    }
   ],
   "source": [
    "df.pvalue.min()"
   ]
  },
  {
   "cell_type": "code",
   "execution_count": 445,
   "metadata": {},
   "outputs": [],
   "source": [
    "# there are a number of high confidence hits that didn't get a pvalue assigned; \n",
    "# give them the lowest calculated pvalues\n",
    "df = df.replace(np.nan, 9E-8)"
   ]
  },
  {
   "cell_type": "code",
   "execution_count": 446,
   "metadata": {},
   "outputs": [],
   "source": [
    "from scipy.stats import rankdata\n",
    "def fdr_(p_vals):\n",
    "    ranked_p_values = rankdata(p_vals)\n",
    "    fdr = p_vals * len(p_vals) / ranked_p_values\n",
    "    fdr[fdr > 1] = 1\n",
    "\n",
    "    return fdr"
   ]
  },
  {
   "cell_type": "code",
   "execution_count": 447,
   "metadata": {},
   "outputs": [],
   "source": [
    "df_fdr = pd.DataFrame()\n",
    "for exp, d in df.groupby('exp'):\n",
    "    fdr = fdr_(d.pvalue.values)\n",
    "    d['fdr'] = fdr\n",
    "    df_fdr = df_fdr.append(d, ignore_index = True)"
   ]
  },
  {
   "cell_type": "code",
   "execution_count": 448,
   "metadata": {},
   "outputs": [
    {
     "data": {
      "text/html": [
       "<div>\n",
       "<style scoped>\n",
       "    .dataframe tbody tr th:only-of-type {\n",
       "        vertical-align: middle;\n",
       "    }\n",
       "\n",
       "    .dataframe tbody tr th {\n",
       "        vertical-align: top;\n",
       "    }\n",
       "\n",
       "    .dataframe thead th {\n",
       "        text-align: right;\n",
       "    }\n",
       "</style>\n",
       "<table border=\"1\" class=\"dataframe\">\n",
       "  <thead>\n",
       "    <tr style=\"text-align: right;\">\n",
       "      <th></th>\n",
       "      <th>exp</th>\n",
       "      <th>gene</th>\n",
       "      <th>log2fold_diff_mean</th>\n",
       "      <th>pvalue</th>\n",
       "      <th>fdr</th>\n",
       "    </tr>\n",
       "  </thead>\n",
       "  <tbody>\n",
       "    <tr>\n",
       "      <th>0</th>\n",
       "      <td>ECM_all</td>\n",
       "      <td>A1BG</td>\n",
       "      <td>0.210615</td>\n",
       "      <td>0.229836</td>\n",
       "      <td>0.976454</td>\n",
       "    </tr>\n",
       "    <tr>\n",
       "      <th>1</th>\n",
       "      <td>ECM_all</td>\n",
       "      <td>A1CF</td>\n",
       "      <td>-0.129601</td>\n",
       "      <td>0.488840</td>\n",
       "      <td>0.981851</td>\n",
       "    </tr>\n",
       "    <tr>\n",
       "      <th>2</th>\n",
       "      <td>ECM_all</td>\n",
       "      <td>A2M</td>\n",
       "      <td>-0.051376</td>\n",
       "      <td>0.713830</td>\n",
       "      <td>0.994821</td>\n",
       "    </tr>\n",
       "    <tr>\n",
       "      <th>3</th>\n",
       "      <td>ECM_all</td>\n",
       "      <td>A2ML1</td>\n",
       "      <td>-0.051428</td>\n",
       "      <td>0.762401</td>\n",
       "      <td>0.998611</td>\n",
       "    </tr>\n",
       "    <tr>\n",
       "      <th>4</th>\n",
       "      <td>ECM_all</td>\n",
       "      <td>A3GALT2</td>\n",
       "      <td>0.143812</td>\n",
       "      <td>0.419690</td>\n",
       "      <td>0.984611</td>\n",
       "    </tr>\n",
       "  </tbody>\n",
       "</table>\n",
       "</div>"
      ],
      "text/plain": [
       "       exp     gene  log2fold_diff_mean    pvalue       fdr\n",
       "0  ECM_all     A1BG            0.210615  0.229836  0.976454\n",
       "1  ECM_all     A1CF           -0.129601  0.488840  0.981851\n",
       "2  ECM_all      A2M           -0.051376  0.713830  0.994821\n",
       "3  ECM_all    A2ML1           -0.051428  0.762401  0.998611\n",
       "4  ECM_all  A3GALT2            0.143812  0.419690  0.984611"
      ]
     },
     "execution_count": 448,
     "metadata": {},
     "output_type": "execute_result"
    }
   ],
   "source": [
    "df_fdr.head()"
   ]
  },
  {
   "cell_type": "code",
   "execution_count": 449,
   "metadata": {},
   "outputs": [],
   "source": [
    "# df_fdr[df_fdr.exp == 'galvo'].sort_values(by = 'log2fold_diff_mean')[:50]"
   ]
  },
  {
   "cell_type": "code",
   "execution_count": 450,
   "metadata": {},
   "outputs": [
    {
     "name": "stderr",
     "output_type": "stream",
     "text": [
      "/opt/anaconda3/lib/python3.7/site-packages/ipykernel_launcher.py:1: UserWarning: Boolean Series key will be reindexed to match DataFrame index.\n",
      "  \"\"\"Entry point for launching an IPython kernel.\n"
     ]
    },
    {
     "data": {
      "text/html": [
       "<div>\n",
       "<style scoped>\n",
       "    .dataframe tbody tr th:only-of-type {\n",
       "        vertical-align: middle;\n",
       "    }\n",
       "\n",
       "    .dataframe tbody tr th {\n",
       "        vertical-align: top;\n",
       "    }\n",
       "\n",
       "    .dataframe thead th {\n",
       "        text-align: right;\n",
       "    }\n",
       "</style>\n",
       "<table border=\"1\" class=\"dataframe\">\n",
       "  <thead>\n",
       "    <tr style=\"text-align: right;\">\n",
       "      <th></th>\n",
       "      <th>exp</th>\n",
       "      <th>gene</th>\n",
       "      <th>log2fold_diff_mean</th>\n",
       "      <th>pvalue</th>\n",
       "      <th>fdr</th>\n",
       "    </tr>\n",
       "  </thead>\n",
       "  <tbody>\n",
       "    <tr>\n",
       "      <th>157902</th>\n",
       "      <td>galvo</td>\n",
       "      <td>SDC2</td>\n",
       "      <td>-0.660670</td>\n",
       "      <td>0.029231</td>\n",
       "      <td>0.974289</td>\n",
       "    </tr>\n",
       "    <tr>\n",
       "      <th>178800</th>\n",
       "      <td>galvo_all</td>\n",
       "      <td>SDC2</td>\n",
       "      <td>-0.387398</td>\n",
       "      <td>0.018801</td>\n",
       "      <td>0.675080</td>\n",
       "    </tr>\n",
       "    <tr>\n",
       "      <th>199698</th>\n",
       "      <td>galvo_bestruns</td>\n",
       "      <td>SDC2</td>\n",
       "      <td>-0.225844</td>\n",
       "      <td>0.286576</td>\n",
       "      <td>1.000000</td>\n",
       "    </tr>\n",
       "    <tr>\n",
       "      <th>220596</th>\n",
       "      <td>galvo_topbestruns</td>\n",
       "      <td>SDC2</td>\n",
       "      <td>-0.482652</td>\n",
       "      <td>0.206436</td>\n",
       "      <td>1.000000</td>\n",
       "    </tr>\n",
       "  </tbody>\n",
       "</table>\n",
       "</div>"
      ],
      "text/plain": [
       "                      exp  gene  log2fold_diff_mean    pvalue       fdr\n",
       "157902              galvo  SDC2           -0.660670  0.029231  0.974289\n",
       "178800          galvo_all  SDC2           -0.387398  0.018801  0.675080\n",
       "199698     galvo_bestruns  SDC2           -0.225844  0.286576  1.000000\n",
       "220596  galvo_topbestruns  SDC2           -0.482652  0.206436  1.000000"
      ]
     },
     "execution_count": 450,
     "metadata": {},
     "output_type": "execute_result"
    }
   ],
   "source": [
    "df_fdr[df_fdr.exp.str.contains('galvo')][df_fdr.gene == 'SDC2']"
   ]
  },
  {
   "cell_type": "code",
   "execution_count": 451,
   "metadata": {},
   "outputs": [
    {
     "name": "stderr",
     "output_type": "stream",
     "text": [
      "/opt/anaconda3/lib/python3.7/site-packages/ipykernel_launcher.py:1: UserWarning: Boolean Series key will be reindexed to match DataFrame index.\n",
      "  \"\"\"Entry point for launching an IPython kernel.\n",
      "/opt/anaconda3/lib/python3.7/site-packages/ipykernel_launcher.py:2: UserWarning: Boolean Series key will be reindexed to match DataFrame index.\n",
      "  \n",
      "/opt/anaconda3/lib/python3.7/site-packages/ipykernel_launcher.py:3: UserWarning: Boolean Series key will be reindexed to match DataFrame index.\n",
      "  This is separate from the ipykernel package so we can avoid doing imports until\n"
     ]
    }
   ],
   "source": [
    "galvo_genes = df_fdr[df_fdr.exp.str.contains('galvo')][df_fdr.fdr<=0.7].gene.unique()\n",
    "diff_genes = df_fdr[df_fdr.exp.str.contains('diff')][df_fdr.fdr<=0.05].gene.unique()\n",
    "growth_genes = df_fdr[df_fdr.exp.str.contains('growth')][df_fdr.fdr<=0.05].gene.unique()"
   ]
  },
  {
   "cell_type": "code",
   "execution_count": 452,
   "metadata": {},
   "outputs": [
    {
     "name": "stdout",
     "output_type": "stream",
     "text": [
      "galvo,  1399\n",
      "differentiation,  1860\n",
      "growth,  2189\n"
     ]
    }
   ],
   "source": [
    "print('galvo, ', len(galvo_genes))\n",
    "print('differentiation, ', len(diff_genes))\n",
    "print('growth, ', len(growth_genes))"
   ]
  },
  {
   "cell_type": "code",
   "execution_count": 453,
   "metadata": {},
   "outputs": [],
   "source": [
    "# for g in diff_genes:\n",
    "#     print(g)"
   ]
  },
  {
   "cell_type": "code",
   "execution_count": 454,
   "metadata": {},
   "outputs": [],
   "source": [
    "# galvo_genes_diff = np.isin(galvo_genes,diff_genes)\n",
    "# galvo_genes_noD = galvo_genes[~galvo_genes_diff]\n",
    "\n",
    "# galvo_genes_growth = np.isin(galvo_genes_noD,growth_genes)\n",
    "# galvo_genes_noD_noG = galvo_genes_noD[~galvo_genes_growth]"
   ]
  },
  {
   "cell_type": "code",
   "execution_count": 455,
   "metadata": {},
   "outputs": [],
   "source": [
    "# for g in np.sort(galvo_genes_noD_noG):\n",
    "#     print(g)\n"
   ]
  },
  {
   "cell_type": "code",
   "execution_count": 456,
   "metadata": {},
   "outputs": [],
   "source": [
    "# for gene in np.sort(galvo_genes[~galvo_genes_diff]):\n",
    "#     print(gene)"
   ]
  },
  {
   "cell_type": "code",
   "execution_count": 457,
   "metadata": {},
   "outputs": [],
   "source": [
    "# len(np.sort(galvo_genes[galvo_genes_diff]))"
   ]
  },
  {
   "cell_type": "code",
   "execution_count": 458,
   "metadata": {},
   "outputs": [],
   "source": [
    "# len(np.sort(galvo_genes[~galvo_genes_diff]))"
   ]
  },
  {
   "cell_type": "code",
   "execution_count": 459,
   "metadata": {},
   "outputs": [],
   "source": [
    "# for sg, d in df[df.gene == 'CONTROL'].groupby(['exp', 'sgRNA']):\n",
    "#     data_list = {'log2fold_diff_mean' : d.log2fold_diff_mean.mean(),\n",
    "#                  'exp' : sg[0],\n",
    "#                  'sgRNA' : sg[1],\n",
    "#                  'gene' : 'CONTROL' + str(sgRNA_dict[sg[1]])}\n",
    "#     df_sgRNA = df_sgRNA.append(data_list, ignore_index = True)\n",
    "    \n"
   ]
  },
  {
   "cell_type": "code",
   "execution_count": 460,
   "metadata": {},
   "outputs": [],
   "source": [
    "# df_sgRNA.to_csv('../../data/screen_summary/collated_screen_data_sgRNA_20210830.csv', index = False)"
   ]
  },
  {
   "cell_type": "code",
   "execution_count": 461,
   "metadata": {},
   "outputs": [],
   "source": [
    "# df_sgRNA.exp.unique()"
   ]
  },
  {
   "cell_type": "code",
   "execution_count": 462,
   "metadata": {},
   "outputs": [],
   "source": [
    "# df_fdr[df_fdr.exp.str.contains('galvo')][df_fdr.fdr<=0.7]"
   ]
  },
  {
   "cell_type": "code",
   "execution_count": 463,
   "metadata": {},
   "outputs": [
    {
     "name": "stderr",
     "output_type": "stream",
     "text": [
      "/opt/anaconda3/lib/python3.7/site-packages/ipykernel_launcher.py:3: UserWarning: Boolean Series key will be reindexed to match DataFrame index.\n",
      "  This is separate from the ipykernel package so we can avoid doing imports until\n"
     ]
    },
    {
     "name": "stdout",
     "output_type": "stream",
     "text": [
      "A1CF\n",
      "AARS\n",
      "AARS2\n",
      "AATF\n",
      "ABCA8\n",
      "ABCF1\n",
      "ABHD12B\n",
      "ABHD17A\n",
      "ABO\n",
      "ACACA\n",
      "ACCS\n",
      "ACIN1\n",
      "ACOT7\n",
      "ACTL6A\n",
      "ACTR10\n",
      "ACTR3\n",
      "ACTR6\n",
      "ACTR8\n",
      "ADAT2\n",
      "ADGRE2\n",
      "ADH4\n",
      "ADNP\n",
      "ADRA1A\n",
      "ADSL\n",
      "ADSS\n",
      "AGMO\n",
      "AGPS\n",
      "AGXT\n",
      "AIMP2\n",
      "AK2\n",
      "AKAP10\n",
      "AKAP13\n",
      "AKAP17A\n",
      "AKAP7\n",
      "AKR1A1\n",
      "AKR1B15\n",
      "ALAD\n",
      "ALG10B\n",
      "ALG13\n",
      "AMH\n",
      "AMZ1\n",
      "ANAPC2\n",
      "ANAPC4\n",
      "ANGPT1\n",
      "ANKK1\n",
      "ANKRD26\n",
      "AP1G1\n",
      "APBA3\n",
      "APLF\n",
      "APOA4\n",
      "APOBEC3A\n",
      "APOBEC4\n",
      "ARF1\n",
      "ARF5\n",
      "ARHGAP12\n",
      "ARHGAP30\n",
      "ARHGAP42\n",
      "ARHGAP45\n",
      "ARHGDIB\n",
      "ARHGEF10L\n",
      "ARID4B\n",
      "ARL2\n",
      "ARNTL2\n",
      "ASCC3\n",
      "ASH1L\n",
      "ASNA1\n",
      "ATE1\n",
      "ATIC\n",
      "ATL2\n",
      "AURKA\n",
      "AURKB\n",
      "B3GNT2\n",
      "B4GALT1\n",
      "B4GALT2\n",
      "BABAM1\n",
      "BACH1\n",
      "BANF1\n",
      "BANP\n",
      "BAP1\n",
      "BARD1\n",
      "BCAS3\n",
      "BCCIP\n",
      "BCL2\n",
      "BCS1L\n",
      "BDP1\n",
      "BEND4\n",
      "BFAR\n",
      "BIRC5\n",
      "BLM\n",
      "BRCA2\n",
      "BRF1\n",
      "BRI3\n",
      "BROX\n",
      "BTAF1\n",
      "BTBD6\n",
      "BTN3A3\n",
      "BUB1B\n",
      "BUD13\n",
      "C10orf111\n",
      "C10orf82\n",
      "C11orf49\n",
      "C14orf1\n",
      "C14orf177\n",
      "C14orf39\n",
      "C15orf41\n",
      "C15orf57\n",
      "C16orf59\n",
      "C16orf62\n",
      "C17orf102\n",
      "C17orf107\n",
      "C17orf67\n",
      "C18orf54\n",
      "C18orf63\n",
      "C18orf65\n",
      "C19orf25\n",
      "C19orf47\n",
      "C1QA\n",
      "C1QTNF5\n",
      "C1orf27\n",
      "C1orf87\n",
      "C3orf38\n",
      "C7orf26\n",
      "C9orf50\n",
      "C9orf57\n",
      "CACYBP\n",
      "CADM4\n",
      "CALCOCO1\n",
      "CALCRL\n",
      "CAMKV\n",
      "CAND1\n",
      "CANX\n",
      "CAP1\n",
      "CAPZB\n",
      "CARM1\n",
      "CARS\n",
      "CASP3\n",
      "CASP9\n",
      "CASQ1\n",
      "CBFB\n",
      "CCDC129\n",
      "CCDC130\n",
      "CCDC136\n",
      "CCDC137\n",
      "CCDC174\n",
      "CCDC177\n",
      "CCDC181\n",
      "CCDC185\n",
      "CCDC6\n",
      "CCDC66\n",
      "CCDC85B\n",
      "CCDC93\n",
      "CCK\n",
      "CCNB1\n",
      "CCNB2\n",
      "CCNC\n",
      "CCNE1\n",
      "CCNT1\n",
      "CCR6\n",
      "CCT6A\n",
      "CD247\n",
      "CD300E\n",
      "CD79B\n",
      "CDC5L\n",
      "CDC7\n",
      "CDC73\n",
      "CDCA3\n",
      "CDCA8\n",
      "CDH20\n",
      "CDK1\n",
      "CDK12\n",
      "CDK2\n",
      "CDK4\n",
      "CDKL4\n",
      "CDRT15\n",
      "CDT1\n",
      "CEACAM21\n",
      "CEBPB\n",
      "CEBPD\n",
      "CEBPE\n",
      "CEBPG\n",
      "CELSR2\n",
      "CELSR3\n",
      "CENPE\n",
      "CENPH\n",
      "CENPM\n",
      "CENPW\n",
      "CEP152\n",
      "CEP295\n",
      "CEP55\n",
      "CERS2\n",
      "CERS6\n",
      "CES3\n",
      "CFAP126\n",
      "CFH\n",
      "CHEK1\n",
      "CHERP\n",
      "CHMP2A\n",
      "CHMP3\n",
      "CHMP6\n",
      "CHORDC1\n",
      "CHTF8\n",
      "CILP2\n",
      "CIT\n",
      "CLCN5\n",
      "CLDN24\n",
      "CLEC10A\n",
      "CLEC4D\n",
      "CLN3\n",
      "CLPB\n",
      "CLSPN\n",
      "CLUH\n",
      "CNPY4\n",
      "COA7\n",
      "COBLL1\n",
      "COL23A1\n",
      "COPB1\n",
      "COPG1\n",
      "COPG2\n",
      "COPS4\n",
      "COPS5\n",
      "COPS6\n",
      "COPZ1\n",
      "COQ10B\n",
      "COQ6\n",
      "CORIN\n",
      "CORO1C\n",
      "CPA2\n",
      "CPD\n",
      "CPOX\n",
      "CPTP\n",
      "CREB3L3\n",
      "CRH\n",
      "CRIPT\n",
      "CSDE1\n",
      "CSE1L\n",
      "CSF2\n",
      "CSNK1G2\n",
      "CSPG4\n",
      "CSTF2\n",
      "CSTF2T\n",
      "CTC1\n",
      "CTDP1\n",
      "CTDSPL2\n",
      "CTTNBP2NL\n",
      "CWC22\n",
      "CYB5B\n",
      "CYC1\n",
      "CYP26C1\n",
      "CYP46A1\n",
      "CYTIP\n",
      "CYTL1\n",
      "DAAM2\n",
      "DAD1\n",
      "DARS\n",
      "DAXX\n",
      "DBR1\n",
      "DCAF13\n",
      "DCAF4L2\n",
      "DCT\n",
      "DCTN5\n",
      "DCTN6\n",
      "DCUN1D1\n",
      "DCUN1D5\n",
      "DCX\n",
      "DDA1\n",
      "DDN\n",
      "DDRGK1\n",
      "DECR1\n",
      "DEPDC1\n",
      "DET1\n",
      "DFFA\n",
      "DHPS\n",
      "DHRS11\n",
      "DHX15\n",
      "DHX35\n",
      "DICER1\n",
      "DIMT1\n",
      "DIRC1\n",
      "DIS3\n",
      "DKC1\n",
      "DNM2\n",
      "DNTTIP1\n",
      "DNTTIP2\n",
      "DOCK2\n",
      "DOK5\n",
      "DOLPP1\n",
      "DPH1\n",
      "DRC7\n",
      "DRG1\n",
      "DSCR4\n",
      "DUT\n",
      "DYNAP\n",
      "DYNC1H1\n",
      "DYNC1I2\n",
      "DYNLRB1\n",
      "DYNLT1\n",
      "DYX1C1\n",
      "EARS2\n",
      "ECT2\n",
      "EDAR\n",
      "EEF1G\n",
      "EFCAB1\n",
      "EFNA1\n",
      "EFR3A\n",
      "ELAC1\n",
      "ELK1\n",
      "ELL\n",
      "ELOF1\n",
      "ELOVL1\n",
      "ELSPBP1\n",
      "ENY2\n",
      "EP400\n",
      "EPC2\n",
      "EPHA7\n",
      "ERAP2\n",
      "ERCC2\n",
      "ERCC3\n",
      "ESF1\n",
      "ESPL1\n",
      "ETV5\n",
      "EXOC7\n",
      "FAM135A\n",
      "FAM173A\n",
      "FAM180A\n",
      "FAM212B\n",
      "FAM3C\n",
      "FAM43B\n",
      "FAM46A\n",
      "FAM47E\n",
      "FAM69B\n",
      "FAM76A\n",
      "FAM83A\n",
      "FANCB\n",
      "FAR2\n",
      "FARSA\n",
      "FASN\n",
      "FAT2\n",
      "FBXO33\n",
      "FBXO6\n",
      "FCHO2\n",
      "FDX1L\n",
      "FECH\n",
      "FERMT1\n",
      "FERMT3\n",
      "FGD2\n",
      "FH\n",
      "FIGNL1\n",
      "FLAD1\n",
      "FLCN\n",
      "FLG2\n",
      "FLOT1\n",
      "FMNL1\n",
      "FNTA\n",
      "FNTB\n",
      "FRG1\n",
      "FRMPD4\n",
      "FRRS1\n",
      "FXR1\n",
      "FXYD4\n",
      "GAB1\n",
      "GALK1\n",
      "GALNT6\n",
      "GAPT\n",
      "GCLM\n",
      "GDF1\n",
      "GDI2\n",
      "GEM\n",
      "GEMIN8\n",
      "GFPT1\n",
      "GIGYF2\n",
      "GINS4\n",
      "GIPC3\n",
      "GJA9\n",
      "GKN1\n",
      "GLE1\n",
      "GLG1\n",
      "GLO1\n",
      "GLRX2\n",
      "GMDS\n",
      "GNA13\n",
      "GNAI2\n",
      "GNG10\n",
      "GNG5\n",
      "GNPNAT1\n",
      "GOLGA6L2\n",
      "GON4L\n",
      "GPATCH1\n",
      "GPATCH3\n",
      "GPR179\n",
      "GPR183\n",
      "GPR68\n",
      "GREM1\n",
      "GRSF1\n",
      "GSS\n",
      "GTPBP4\n",
      "GTPBP8\n",
      "HACE1\n",
      "HAGH\n",
      "HARS\n",
      "HAS1\n",
      "HAS3\n",
      "HAUS2\n",
      "HAUS3\n",
      "HAUS5\n",
      "HAUS8\n",
      "HEATR1\n",
      "HEATR5A\n",
      "HGFAC\n",
      "HGS\n",
      "HIBADH\n",
      "HK2\n",
      "HOMER1\n",
      "HSD17B12\n",
      "HSPA12A\n",
      "HTR3B\n",
      "HYPK\n",
      "IARS2\n",
      "IBA57\n",
      "ICAM5\n",
      "ICE1\n",
      "ID2\n",
      "IER3IP1\n",
      "IGF2BP3\n",
      "IL1A\n",
      "IL27RA\n",
      "ILK\n",
      "INO80B\n",
      "INO80C\n",
      "INPP5D\n",
      "INPP5K\n",
      "IPO4\n",
      "IPPK\n",
      "IQGAP3\n",
      "IRF2\n",
      "IRF2BP1\n",
      "IRX4\n",
      "ISL2\n",
      "ITPKB\n",
      "ITSN2\n",
      "JOSD1\n",
      "JTB\n",
      "KANSL3\n",
      "KATNAL2\n",
      "KCNA3\n",
      "KHDC1\n",
      "KHDRBS1\n",
      "KIAA1211L\n",
      "KIAA1217\n",
      "KIAA1429\n",
      "KIAA2013\n",
      "KIF11\n",
      "KIF14\n",
      "KIF20A\n",
      "KIF3C\n",
      "KIF4A\n",
      "KLF3\n",
      "KLHL11\n",
      "KLHL3\n",
      "KLHL38\n",
      "KLHL40\n",
      "KLRG1\n",
      "KNTC1\n",
      "KPNA2\n",
      "KRCC1\n",
      "KRT31\n",
      "KRTAP21-2\n",
      "KRTAP5-2\n",
      "L3MBTL2\n",
      "LAMTOR2\n",
      "LAMTOR3\n",
      "LAMTOR4\n",
      "LAMTOR5\n",
      "LARP1\n",
      "LARS2\n",
      "LCA5L\n",
      "LCOR\n",
      "LCTL\n",
      "LDLRAP1\n",
      "LINGO1\n",
      "LIPT2\n",
      "LNX1\n",
      "LOC100996693\n",
      "LRBA\n",
      "LRRC25\n",
      "LRRC3\n",
      "LRRC42\n",
      "LRRC61\n",
      "LRRK2\n",
      "LSM12\n",
      "LSM2\n",
      "LSM3\n",
      "LSM7\n",
      "LTA\n",
      "LTK\n",
      "LUC7L3\n",
      "LYL1\n",
      "LYRM1\n",
      "MAD2L1\n",
      "MAD2L1BP\n",
      "MAGED1\n",
      "MAN1A1\n",
      "MAN2A1\n",
      "MAP4K4\n",
      "MAPK1\n",
      "MARCH8\n",
      "MASP1\n",
      "MBIP\n",
      "MBTPS1\n",
      "MBTPS2\n",
      "MCM10\n",
      "MCM2\n",
      "MCM3\n",
      "MCM3AP\n",
      "MCM4\n",
      "MCPH1\n",
      "MECR\n",
      "MEN1\n",
      "MESDC2\n",
      "METAP1\n",
      "METAP2\n",
      "METTL14\n",
      "METTL15\n",
      "MFAP3\n",
      "MGAM\n",
      "MICAL1\n",
      "MID1\n",
      "MIPEP\n",
      "MIS12\n",
      "MIS18A\n",
      "MIS18BP1\n",
      "MLLT1\n",
      "MLYCD\n",
      "MNAT1\n",
      "MOB2\n",
      "MOB4\n",
      "MON1B\n",
      "MORF4L1\n",
      "MRAS\n",
      "MRGBP\n",
      "MTERF3\n",
      "MTF1\n",
      "MTHFD1\n",
      "MTHFS\n",
      "MTMR7\n",
      "MTOR\n",
      "MUC2\n",
      "MUS81\n",
      "MYCT1\n",
      "MYH14\n",
      "MYH9\n",
      "MYL6\n",
      "MYLK3\n",
      "MYRFL\n",
      "NAA30\n",
      "NAALADL2\n",
      "NABP1\n",
      "NARS\n",
      "NBAS\n",
      "NBN\n",
      "NCAPH\n",
      "NCKAP1L\n",
      "NCOR1\n",
      "NDC1\n",
      "NDC80\n",
      "NDOR1\n",
      "NDRG1\n",
      "NEDD1\n",
      "NEFH\n",
      "NFE2\n",
      "NFRKB\n",
      "NFU1\n",
      "NGDN\n",
      "NGFR\n",
      "NHSL1\n",
      "NHSL2\n",
      "NIP7\n",
      "NKAIN2\n",
      "NKAP\n",
      "NKD2\n",
      "NKRF\n",
      "NKX2-4\n",
      "NLRC4\n",
      "NLRP2B\n",
      "NMRK1\n",
      "NPIPB5\n",
      "NPS\n",
      "NRDE2\n",
      "NRF1\n",
      "NRN1L\n",
      "NRTN\n",
      "NSL1\n",
      "NSRP1\n",
      "NUBP1\n",
      "NUDC\n",
      "NUDCD1\n",
      "NUDT22\n",
      "NUP160\n",
      "NUP37\n",
      "NUP62\n",
      "NUP85\n",
      "NUP98\n",
      "NVL\n",
      "NWD1\n",
      "NYAP1\n",
      "ODF3L2\n",
      "ODF4\n",
      "OGFRL1\n",
      "OIP5\n",
      "OPLAH\n",
      "OR10A3\n",
      "OR10W1\n",
      "OR10X1\n",
      "OR11H12\n",
      "OR13C3\n",
      "OR13J1\n",
      "OR1C1\n",
      "OR1J4\n",
      "OR2D3\n",
      "OR2K2\n",
      "OR2V1\n",
      "OR2W1\n",
      "OR4D11\n",
      "OR4K13\n",
      "OR51D1\n",
      "OR52E2\n",
      "OR5L2\n",
      "OR5W2\n",
      "OR7C1\n",
      "OR8K3\n",
      "ORAOV1\n",
      "ORC3\n",
      "OSTM1\n",
      "OTUD5\n",
      "P2RX2\n",
      "P2RX6\n",
      "PAM16\n",
      "PAPD7\n",
      "PAPLN\n",
      "PATZ1\n",
      "PAX8\n",
      "PCBP1\n",
      "PCBP2\n",
      "PCDHA13\n",
      "PCDHGA4\n",
      "PCF11\n",
      "PCMT1\n",
      "PCYT2\n",
      "PDCL\n",
      "PDE4D\n",
      "PDGFC\n",
      "PDGFRA\n",
      "PDPN\n",
      "PDS5B\n",
      "PDYN\n",
      "PET117\n",
      "PEX19\n",
      "PFDN1\n",
      "PFDN2\n",
      "PGAM5\n",
      "PGM3\n",
      "PHB2\n",
      "PHKG2\n",
      "PHLDA3\n",
      "PIK3CG\n",
      "PIK3R3\n",
      "PIKFYVE\n",
      "PITPNB\n",
      "PKLR\n",
      "PKMYT1\n",
      "PLA2G6\n",
      "PLAGL2\n",
      "PLAT\n",
      "PLCE1\n",
      "PLD3\n",
      "PLEKHA6\n",
      "PLEKHN1\n",
      "PLEKHO1\n",
      "PLK4\n",
      "PMM2\n",
      "PMPCA\n",
      "PMVK\n",
      "PNO1\n",
      "PNPT1\n",
      "POFUT1\n",
      "POGZ\n",
      "POM121L2\n",
      "POP1\n",
      "PORCN\n",
      "PPA2\n",
      "PPAN\n",
      "PPARA\n",
      "PPCDC\n",
      "PPM1F\n",
      "PPM1G\n",
      "PPP1R10\n",
      "PPP1R18\n",
      "PPP1R2\n",
      "PPP2R1A\n",
      "PPP4R2\n",
      "PPWD1\n",
      "PQBP1\n",
      "PRDM10\n",
      "PRDM2\n",
      "PRIM2\n",
      "PRKAA1\n",
      "PRKCB\n",
      "PRKDC\n",
      "PRMT7\n",
      "PROB1\n",
      "PRR33\n",
      "PRR4\n",
      "PRRG4\n",
      "PRSS35\n",
      "PSMB1\n",
      "PSMB6\n",
      "PSMB7\n",
      "PSMC3IP\n",
      "PSMD10\n",
      "PSMD12\n",
      "PSMD4\n",
      "PSMD7\n",
      "PSME3\n",
      "PTCH1\n",
      "PTK2B\n",
      "PTPN6\n",
      "PTPRT\n",
      "PUF60\n",
      "PURA\n",
      "PXK\n",
      "QKI\n",
      "QRICH1\n",
      "R3HDM1\n",
      "RAB11A\n",
      "RAB7A\n",
      "RABL3\n",
      "RAC2\n",
      "RAD50\n",
      "RAD51\n",
      "RAD51C\n",
      "RAE1\n",
      "RANBP2\n",
      "RANBP3\n",
      "RAP1A\n",
      "RAP2C\n",
      "RARS2\n",
      "RASA2\n",
      "RASA4B\n",
      "RASGEF1A\n",
      "RBBP5\n",
      "RBBP8\n",
      "RBFA\n",
      "RBM17\n",
      "RBM25\n",
      "RBM47\n",
      "RBP7\n",
      "RBSN\n",
      "RBX1\n",
      "RCC1L\n",
      "RCL1\n",
      "RCOR3\n",
      "REC8\n",
      "REV3L\n",
      "RFC2\n",
      "RFC3\n",
      "RFX1\n",
      "RFX6\n",
      "RGP1\n",
      "RGS19\n",
      "RGS20\n",
      "RHEB\n",
      "RHOA\n",
      "RMI2\n",
      "RNF187\n",
      "RNF20\n",
      "RNF214\n",
      "RNF40\n",
      "RNGTT\n",
      "ROMO1\n",
      "RPA1\n",
      "RPA2\n",
      "RPIA\n",
      "RRAGA\n",
      "RRAGC\n",
      "RRM1\n",
      "RRP36\n",
      "RRS1\n",
      "RSL1D1\n",
      "RTCB\n",
      "RTF1\n",
      "RTN4IP1\n",
      "RUSC1\n",
      "RUVBL1\n",
      "RUVBL2\n",
      "SAAL1\n",
      "SAMD12\n",
      "SARNP\n",
      "SARS\n",
      "SARS2\n",
      "SASH3\n",
      "SCAF4\n",
      "SCD\n",
      "SCFD1\n",
      "SCLT1\n",
      "SCN3A\n",
      "SCUBE2\n",
      "SDAD1\n",
      "SDC2\n",
      "SDF4\n",
      "SDHA\n",
      "SDHAF1\n",
      "SDHB\n",
      "SDHC\n",
      "SEC61B\n",
      "SEC61G\n",
      "SEC62\n",
      "SEL1L2\n",
      "SELENOS\n",
      "SELENOT\n",
      "SEMA5B\n",
      "SEPSECS\n",
      "SERPINB10\n",
      "SERPINI2\n",
      "SGCB\n",
      "SGIP1\n",
      "SGO1\n",
      "SH3BP1\n",
      "SH3GL1\n",
      "SHC4\n",
      "SHOC2\n",
      "SHTN1\n",
      "SIN3B\n",
      "SIRPB2\n",
      "SIRT1\n",
      "SLC10A7\n",
      "SLC16A7\n",
      "SLC25A1\n",
      "SLC25A26\n",
      "SLC25A39\n",
      "SLC26A7\n",
      "SLC2A2\n",
      "SLC2A4RG\n",
      "SLC2A8\n",
      "SLC35B1\n",
      "SLC35F2\n",
      "SLC38A11\n",
      "SLC44A2\n",
      "SLC5A3\n",
      "SLC7A1\n",
      "SLC7A4\n",
      "SLC9A5\n",
      "SLCO5A1\n",
      "SLX4\n",
      "SMAD2\n",
      "SMAD5\n",
      "SMAP2\n",
      "SMARCE1\n",
      "SMC3\n",
      "SMC5\n",
      "SMIM5\n",
      "SMR3A\n",
      "SMYD1\n",
      "SNAPC2\n",
      "SON\n",
      "SP100\n",
      "SPATA5\n",
      "SPATC1\n",
      "SPC25\n",
      "SPDL1\n",
      "SPINT1\n",
      "SPRED2\n",
      "SPRYD3\n",
      "SPTA1\n",
      "SQOR\n",
      "SQSTM1\n",
      "SRCIN1\n",
      "SREK1\n",
      "SRF\n",
      "SRP14\n",
      "SRRM2\n",
      "SS18\n",
      "SSRP1\n",
      "STK4\n",
      "STN1\n",
      "STRIP1\n",
      "STRN\n",
      "STRN4\n",
      "STX18\n",
      "SUCNR1\n",
      "SUGP1\n",
      "SUGT1\n",
      "SULT1C4\n",
      "SULT6B1\n",
      "SUV39H1\n",
      "SYDE2\n",
      "SYMPK\n",
      "SYT5\n",
      "SZRD1\n",
      "TADA3\n",
      "TAF13\n",
      "TAF1B\n",
      "TAF1C\n",
      "TAF3\n",
      "TAF4\n",
      "TAF7\n",
      "TANGO6\n",
      "TARDBP\n",
      "TARS2\n",
      "TARSL2\n",
      "TAX1BP1\n",
      "TBC1D7\n",
      "TBCA\n",
      "TCERG1\n",
      "TCP1\n",
      "TCTE3\n",
      "TDG\n",
      "TDRD7\n",
      "TDRP\n",
      "TERF2\n",
      "TET1\n",
      "TEX10\n",
      "TEX264\n",
      "TFAP4\n",
      "TFDP3\n",
      "THEG5\n",
      "THPO\n",
      "THRSP\n",
      "TIMP1\n",
      "TIPIN\n",
      "TIPRL\n",
      "TLN1\n",
      "TLR3\n",
      "TM2D2\n",
      "TMEM102\n",
      "TMEM135\n",
      "TMEM140\n",
      "TMEM141\n",
      "TMEM154\n",
      "TMEM170A\n",
      "TMEM174\n",
      "TMEM242\n",
      "TMEM35A\n",
      "TMEM52B\n",
      "TMEM56-RWDD3\n",
      "TMEM61\n",
      "TMEM65\n",
      "TMEM68\n",
      "TMSB4X\n",
      "TNFAIP8L3\n",
      "TNR\n",
      "TOB1\n",
      "TOMM20\n",
      "TOMM6\n",
      "TONSL\n",
      "TOP1\n",
      "TOP2A\n",
      "TOPBP1\n",
      "TOX4\n",
      "TP53INP2\n",
      "TP53RK\n",
      "TPD52L2\n",
      "TPGS1\n",
      "TPR\n",
      "TPX2\n",
      "TRAF2\n",
      "TRAF3IP3\n",
      "TRIB2\n",
      "TRIM21\n",
      "TRIM31\n",
      "TRIOBP\n",
      "TRIP11\n",
      "TRMT5\n",
      "TRNT1\n",
      "TRPM2\n",
      "TRPV2\n",
      "TRPV4\n",
      "TSEN2\n",
      "TSPAN4\n",
      "TSPYL2\n",
      "TSSC1\n",
      "TSTA3\n",
      "TTC1\n",
      "TTC27\n",
      "TTI1\n",
      "TUBA1B\n",
      "TUBD1\n",
      "TUBGCP5\n",
      "TUBGCP6\n",
      "TUT1\n",
      "TXNIP\n",
      "TXNRD3NB\n",
      "UAP1\n",
      "UBA2\n",
      "UBAP2L\n",
      "UBE2E1\n",
      "UBE2L3\n",
      "UBQLN2\n",
      "UBR4\n",
      "UCHL5\n",
      "UCP1\n",
      "UGGT1\n",
      "UGP2\n",
      "UMPS\n",
      "UPF2\n",
      "UQCRC1\n",
      "UROD\n",
      "UROS\n",
      "USE1\n",
      "USO1\n",
      "USP1\n",
      "USP17L2\n",
      "USP19\n",
      "USP22\n",
      "USP35\n",
      "USP39\n",
      "USP5\n",
      "UVRAG\n",
      "UXS1\n",
      "VBP1\n",
      "VGLL1\n",
      "VIPR2\n",
      "VMP1\n",
      "VN1R1\n",
      "VPS13A\n",
      "VPS13B\n",
      "VPS16\n",
      "VPS26B\n",
      "VPS28\n",
      "VPS29\n",
      "VPS35\n",
      "VPS36\n",
      "VPS39\n",
      "VPS41\n",
      "VPS52\n",
      "VPS72\n",
      "VWF\n",
      "WARS2\n",
      "WDHD1\n",
      "WDR1\n",
      "WDR12\n",
      "WDR20\n",
      "WDR44\n",
      "WDR48\n",
      "WDR5\n",
      "WDR55\n",
      "WDR59\n",
      "WDR7\n",
      "WFDC11\n",
      "WIF1\n",
      "WIPF3\n",
      "WNT3\n",
      "WRAP53\n",
      "WRB\n",
      "XG\n",
      "XKR5\n",
      "XRN2\n",
      "YAP1\n",
      "YARS\n",
      "YEATS2\n",
      "YIPF5\n",
      "YKT6\n",
      "YTHDC1\n",
      "YTHDC2\n",
      "ZCCHC8\n",
      "ZCRB1\n",
      "ZEB2\n",
      "ZIC5\n",
      "ZIM3\n",
      "ZKSCAN8\n",
      "ZNRF2\n",
      "ZSCAN2\n",
      "ZSWIM8\n",
      "ZYG11A\n"
     ]
    }
   ],
   "source": [
    "genes_galvo = []\n",
    "count = 0\n",
    "for g in np.sort(df_fdr[df_fdr.exp.str.contains('galvo')][df_fdr.fdr<=0.7].gene.unique()):\n",
    "    if 'CONTROL' in g:\n",
    "        continue\n",
    "        \n",
    "    # transcription/translation\n",
    "    elif 'RPS' in g:\n",
    "        continue\n",
    "    elif 'RPL' in g:\n",
    "        continue\n",
    "    elif 'POL' in g:\n",
    "        continue\n",
    "    elif 'MED' in g:\n",
    "        continue\n",
    "    elif 'RPP' in g:\n",
    "        continue\n",
    "    elif 'TTF' in g:\n",
    "        continue\n",
    "    elif 'PRPF' in g:\n",
    "        continue\n",
    "    elif 'NOP' in g:\n",
    "        continue\n",
    "    elif 'NOL' in g:\n",
    "        continue\n",
    "    elif 'NOC' in g:\n",
    "        continue\n",
    "    elif 'NOB' in g:\n",
    "        continue\n",
    "    elif 'NRNP' in g:\n",
    "        continue\n",
    "    elif 'CNOT' in g:\n",
    "        continue\n",
    "    elif 'INTS' in g:\n",
    "        continue\n",
    "    elif 'RNASE' in g:\n",
    "        continue\n",
    "    elif 'RPR' in g:\n",
    "        continue\n",
    "    elif 'CPS' in g:\n",
    "        continue   \n",
    "    elif 'DNA' in g:\n",
    "        continue\n",
    "    elif 'SF3B' in g:\n",
    "        continue\n",
    "    elif 'SNRP' in g:\n",
    "        continue\n",
    "    elif 'UTP' in g:\n",
    "        continue\n",
    "        \n",
    "    # histones, HMGB\n",
    "    elif 'HMG' in g:\n",
    "        continue\n",
    "    elif 'HIST' in g:\n",
    "        continue \n",
    "    elif 'SETD' in g:\n",
    "        continue \n",
    "        \n",
    "     \n",
    "    # transcription factors\n",
    "    elif 'ZNF' in g:\n",
    "        continue\n",
    "    elif 'ZC3H' in g:\n",
    "        continue\n",
    "    elif 'ZBTB' in g:\n",
    "        continue    \n",
    "    elif 'EIF' in g:\n",
    "        continue\n",
    "    elif 'DDX' in g:\n",
    "        continue\n",
    "    elif 'CEBDDX' in g:\n",
    "        continue\n",
    "    elif 'SPI1' in g:\n",
    "        continue\n",
    "    elif 'ZZEF1' in g:\n",
    "        continue\n",
    "    elif 'ZFP' in g:\n",
    "        continue\n",
    "    elif 'HOX' in g:\n",
    "        continue\n",
    "    elif 'MYB' in g:\n",
    "        continue\n",
    "    elif 'GTF2' in g:\n",
    "        continue\n",
    "\n",
    "     # oxidative phos\n",
    "    elif 'NDUF' in g:\n",
    "        continue\n",
    "    elif 'ATP' in g:\n",
    "        continue     \n",
    "    elif 'COX' in g:\n",
    "        continue\n",
    "    elif 'TIMM' in g:\n",
    "        continue\n",
    "        \n",
    "    count += 1\n",
    "    genes_galvo = np.append(genes_galvo, g)\n",
    "    \n",
    "    \n",
    "    \n",
    "    print(g)"
   ]
  },
  {
   "cell_type": "code",
   "execution_count": 464,
   "metadata": {},
   "outputs": [
    {
     "data": {
      "text/plain": [
       "1072"
      ]
     },
     "execution_count": 464,
     "metadata": {},
     "output_type": "execute_result"
    }
   ],
   "source": [
    "count"
   ]
  },
  {
   "cell_type": "code",
   "execution_count": 465,
   "metadata": {},
   "outputs": [],
   "source": [
    "# maybe add in:\n",
    "# funcational RICTOR sgRNA; \n",
    "# TRAF6\n",
    "# IFNAR2\n",
    "# PKN1\n",
    "# PRKCB\n",
    "# IL4R\n",
    "# HCAR2\n",
    "# B3GAT3\n",
    "# CHSY1\n",
    "# CHST9\n",
    "# CHST12\n",
    "# genes_galvo = np.append(genes_galvo, )"
   ]
  },
  {
   "cell_type": "code",
   "execution_count": 317,
   "metadata": {},
   "outputs": [],
   "source": [
    "# df_galvo = df_fdr[df_fdr.exp == 'galvo_bestruns']"
   ]
  },
  {
   "cell_type": "code",
   "execution_count": 318,
   "metadata": {},
   "outputs": [],
   "source": [
    "# df_galvo_ = df_galvo[df_galvo.gene.isin(genes)]"
   ]
  },
  {
   "cell_type": "code",
   "execution_count": 319,
   "metadata": {},
   "outputs": [],
   "source": [
    "# df_galvo__ = df_galvo_[['gene', 'log2fold_diff_mean']].sort_values('log2fold_diff_mean')"
   ]
  },
  {
   "cell_type": "code",
   "execution_count": 320,
   "metadata": {},
   "outputs": [],
   "source": [
    "# df_galvo__.columns = ['GeneName', 'Rank']\n",
    "# df_galvo__.to_csv('20211014_galvo_bestruns_tophits_fdr0_7.csv', sep= '\\t', index=False)"
   ]
  },
  {
   "cell_type": "code",
   "execution_count": 321,
   "metadata": {},
   "outputs": [],
   "source": [
    "# df_galvo__[df_galvo__.GeneName.str.contains('SRC')]"
   ]
  },
  {
   "cell_type": "code",
   "execution_count": 322,
   "metadata": {},
   "outputs": [],
   "source": [
    "# len(df_galvo__)"
   ]
  },
  {
   "cell_type": "code",
   "execution_count": 323,
   "metadata": {},
   "outputs": [],
   "source": [
    "# Now lets say I wanted to only look at the most effective sgRNAs\n",
    "# In addition, and in order to still have multiple sgRNAs per gene, \n",
    "# lets include additional sgRNA from set B to have 3 sgRNA per gene.\n"
   ]
  },
  {
   "cell_type": "code",
   "execution_count": 466,
   "metadata": {},
   "outputs": [],
   "source": [
    "# the current screen data\n",
    "files = glob.glob('../../data/screen_summary/screen_log2fold_diffs_sgRNA_galvo_bestruns_20210826.csv')\n",
    "df_galvo_sg = pd.read_csv(files[0])\n",
    "# df = df[['exp', 'gene', 'log2fold_diff_mean', 'pvalue']]\n",
    "df_galvo_sg = df_galvo_sg[df_galvo_sg.gene.isin(genes_galvo)]\n",
    "df_galvo_sg.head()\n",
    "\n",
    "# the sgRNAs from set B\n",
    "df_dolc_setB = pd.read_csv('../../data/sanson_2018/Sanson_Dolc_CRISPRI_IDs_libB.csv')"
   ]
  },
  {
   "cell_type": "code",
   "execution_count": 467,
   "metadata": {},
   "outputs": [],
   "source": [
    "# df_dolc = df_dolc_setB[df_dolc_setB.annotated_gene_symbol == 'SMARCAD1']\n",
    "# print(df_dolc)\n",
    "# print(df_dolc.loc[0].annotated_gene_symbol)"
   ]
  },
  {
   "cell_type": "code",
   "execution_count": 468,
   "metadata": {},
   "outputs": [],
   "source": [
    "df_galvo_rescreen = pd.DataFrame()\n",
    "\n",
    "count_galvo = 0\n",
    "for g, d  in df_galvo_sg.groupby('gene'):\n",
    "    d_ = d[abs(d.log2fold_diff_mean)>0.5]\n",
    "    \n",
    "    df_galvo_rescreen = df_galvo_rescreen.append(d_[['gene', 'sgRNA']], ignore_index = True)\n",
    "    count_galvo += len(d_)\n"
   ]
  },
  {
   "cell_type": "code",
   "execution_count": 469,
   "metadata": {},
   "outputs": [
    {
     "data": {
      "text/plain": [
       "3212"
      ]
     },
     "execution_count": 469,
     "metadata": {},
     "output_type": "execute_result"
    }
   ],
   "source": [
    "len(df_galvo_sg)"
   ]
  },
  {
   "cell_type": "code",
   "execution_count": 470,
   "metadata": {},
   "outputs": [
    {
     "data": {
      "text/plain": [
       "1573"
      ]
     },
     "execution_count": 470,
     "metadata": {},
     "output_type": "execute_result"
    }
   ],
   "source": [
    "count_galvo"
   ]
  },
  {
   "cell_type": "code",
   "execution_count": 471,
   "metadata": {},
   "outputs": [
    {
     "data": {
      "text/html": [
       "<div>\n",
       "<style scoped>\n",
       "    .dataframe tbody tr th:only-of-type {\n",
       "        vertical-align: middle;\n",
       "    }\n",
       "\n",
       "    .dataframe tbody tr th {\n",
       "        vertical-align: top;\n",
       "    }\n",
       "\n",
       "    .dataframe thead th {\n",
       "        text-align: right;\n",
       "    }\n",
       "</style>\n",
       "<table border=\"1\" class=\"dataframe\">\n",
       "  <thead>\n",
       "    <tr style=\"text-align: right;\">\n",
       "      <th></th>\n",
       "      <th>Unnamed: 0</th>\n",
       "      <th>gene</th>\n",
       "      <th>sgRNA</th>\n",
       "      <th>log2fold_diff_mean</th>\n",
       "    </tr>\n",
       "  </thead>\n",
       "  <tbody>\n",
       "    <tr>\n",
       "      <th>9</th>\n",
       "      <td>9</td>\n",
       "      <td>CPA2</td>\n",
       "      <td>AAAAAACAGGATCAACCTCA</td>\n",
       "      <td>1.032126</td>\n",
       "    </tr>\n",
       "    <tr>\n",
       "      <th>26</th>\n",
       "      <td>26</td>\n",
       "      <td>ZEB2</td>\n",
       "      <td>AAAAACCTCGCCAAGAGTGT</td>\n",
       "      <td>0.392555</td>\n",
       "    </tr>\n",
       "    <tr>\n",
       "      <th>30</th>\n",
       "      <td>30</td>\n",
       "      <td>WFDC11</td>\n",
       "      <td>AAAAACTTACCAACCAGAAA</td>\n",
       "      <td>-0.840571</td>\n",
       "    </tr>\n",
       "    <tr>\n",
       "      <th>90</th>\n",
       "      <td>90</td>\n",
       "      <td>RTCB</td>\n",
       "      <td>AAAACTGTAGCAAAAACTCC</td>\n",
       "      <td>0.312655</td>\n",
       "    </tr>\n",
       "    <tr>\n",
       "      <th>97</th>\n",
       "      <td>97</td>\n",
       "      <td>ICE1</td>\n",
       "      <td>AAAAGAAACGCTACCCGGCG</td>\n",
       "      <td>0.108407</td>\n",
       "    </tr>\n",
       "  </tbody>\n",
       "</table>\n",
       "</div>"
      ],
      "text/plain": [
       "    Unnamed: 0    gene                 sgRNA  log2fold_diff_mean\n",
       "9            9    CPA2  AAAAAACAGGATCAACCTCA            1.032126\n",
       "26          26    ZEB2  AAAAACCTCGCCAAGAGTGT            0.392555\n",
       "30          30  WFDC11  AAAAACTTACCAACCAGAAA           -0.840571\n",
       "90          90    RTCB  AAAACTGTAGCAAAAACTCC            0.312655\n",
       "97          97    ICE1  AAAAGAAACGCTACCCGGCG            0.108407"
      ]
     },
     "execution_count": 471,
     "metadata": {},
     "output_type": "execute_result"
    }
   ],
   "source": [
    "# repeat analysis using 'top only data' analysis values\n",
    "files = glob.glob('../../data/screen_summary/screen_log2fold_diffs_sgRNA_galvo_20210826.csv')\n",
    "df_galvo_sg = pd.read_csv(files[0])\n",
    "# df = df[['exp', 'gene', 'log2fold_diff_mean', 'pvalue']]\n",
    "df_galvo_sg = df_galvo_sg[df_galvo_sg.gene.isin(genes_galvo)]\n",
    "df_galvo_sg.head()"
   ]
  },
  {
   "cell_type": "code",
   "execution_count": 472,
   "metadata": {},
   "outputs": [],
   "source": [
    "count_galvo = 0\n",
    "for g, d  in df_galvo_sg.groupby('gene'):\n",
    "    d_ = d[abs(d.log2fold_diff_mean)>0.5]\n",
    "    df_galvo_rescreen = df_galvo_rescreen.append(d_[['gene', 'sgRNA']], ignore_index = True)\n",
    "    count_galvo += len(d_)\n",
    "#     print(g, d_)"
   ]
  },
  {
   "cell_type": "code",
   "execution_count": 473,
   "metadata": {},
   "outputs": [
    {
     "data": {
      "text/plain": [
       "3212"
      ]
     },
     "execution_count": 473,
     "metadata": {},
     "output_type": "execute_result"
    }
   ],
   "source": [
    "len(df_galvo_sg)"
   ]
  },
  {
   "cell_type": "code",
   "execution_count": 474,
   "metadata": {},
   "outputs": [
    {
     "data": {
      "text/plain": [
       "1596"
      ]
     },
     "execution_count": 474,
     "metadata": {},
     "output_type": "execute_result"
    }
   ],
   "source": [
    "count_galvo"
   ]
  },
  {
   "cell_type": "code",
   "execution_count": 475,
   "metadata": {},
   "outputs": [],
   "source": [
    "df_galvo_rescreen = df_galvo_rescreen.drop_duplicates()"
   ]
  },
  {
   "cell_type": "code",
   "execution_count": 476,
   "metadata": {},
   "outputs": [
    {
     "data": {
      "text/plain": [
       "2161"
      ]
     },
     "execution_count": 476,
     "metadata": {},
     "output_type": "execute_result"
    }
   ],
   "source": [
    "len(df_galvo_rescreen)"
   ]
  },
  {
   "cell_type": "code",
   "execution_count": 477,
   "metadata": {},
   "outputs": [],
   "source": [
    "# now look at the few extra genes I want to include\n",
    "# files = glob.glob('../../data/screen_summary/screen_log2fold_diffs_sgRNA_galvo_bestruns_20210826.csv')\n",
    "# df_galvo_sg = pd.read_csv(files[0])\n",
    "\n",
    "# funcational RICTOR sgRNA; CGGGCTTACCTCGTACTCGG\n",
    "# TRAF6 - AGCAGTGGCGTCCGCAGCTG, GGAGCCTTCGCCACCTTCGC\n",
    "# IFNAR2, GACGCTTCTTCCCGGCGGGT, CTAAAGACGCTTCTTCCCGG\n",
    "# PKN1, GCGCGACCCTCCCCGGCGCG, GAGGCGGGAGCCGAGCAGGC\n",
    "# PRKCB, GGCCGCCAGAGCCGGCGCAG, AGCTGGGCGAGTGACAGCCC\n",
    "# IL4R, TGGAGCAGGGGCGCGCAGGT, GGGCGCGCAGGTAGGATCCG\n",
    "# HCAR2, CACTAGCCGCACTCATGAAT, TAGTGAATGCTCCAGCAAGG\n",
    "# B3GAT3, GTTCTTCAGCTTCAGCTTCA, CCGAGCAGGCGGGGTCTGCA\n",
    "# CHSY1, GCAATGGCGAGCTAAGCCGG, GGCGCCGGCTACGAAGAGGA, GTCCCCGTCCTCTTCGTAGC\n",
    "# CHST9, GCGCACTCCTGGCAGCCGTG, AGCCGTGAGGTGGCTGAGAG\n",
    "# CHST12 GGCGCGAGGTGAGGGGCGCG, GGCTGCGGGCGCGAGGTGAG"
   ]
  },
  {
   "cell_type": "code",
   "execution_count": 478,
   "metadata": {},
   "outputs": [
    {
     "data": {
      "text/plain": [
       "2161"
      ]
     },
     "execution_count": 478,
     "metadata": {},
     "output_type": "execute_result"
    }
   ],
   "source": [
    "len(df_galvo_rescreen)"
   ]
  },
  {
   "cell_type": "code",
   "execution_count": 479,
   "metadata": {},
   "outputs": [],
   "source": [
    "data = {'gene' : 'RICTOR',\n",
    "        'sgRNA' : 'CGGGCTTACCTCGTACTCGG'}\n",
    "df_galvo_rescreen = df_galvo_rescreen.append(data, ignore_index = True)\n",
    "\n",
    "data = {'gene' : 'TRAF6',\n",
    "        'sgRNA' : 'AGCAGTGGCGTCCGCAGCTG'}\n",
    "df_galvo_rescreen = df_galvo_rescreen.append(data, ignore_index = True)\n",
    "\n",
    "data = {'gene' : 'TRAF6',\n",
    "        'sgRNA' : 'GGAGCCTTCGCCACCTTCGC'}\n",
    "df_galvo_rescreen = df_galvo_rescreen.append(data, ignore_index = True)\n",
    "\n",
    "data = {'gene' : 'IFNAR2',\n",
    "        'sgRNA' : 'GACGCTTCTTCCCGGCGGGT'}\n",
    "df_galvo_rescreen = df_galvo_rescreen.append(data, ignore_index = True)\n",
    "\n",
    "data = {'gene' : 'IFNAR2',\n",
    "        'sgRNA' : 'CTAAAGACGCTTCTTCCCGG'}\n",
    "df_galvo_rescreen = df_galvo_rescreen.append(data, ignore_index = True)\n",
    "\n",
    "data = {'gene' : 'PKN1',\n",
    "        'sgRNA' : 'GCGCGACCCTCCCCGGCGCG'}\n",
    "df_galvo_rescreen = df_galvo_rescreen.append(data, ignore_index = True)\n",
    "\n",
    "data = {'gene' : 'PKN1',\n",
    "        'sgRNA' : 'GAGGCGGGAGCCGAGCAGGC'}\n",
    "df_galvo_rescreen = df_galvo_rescreen.append(data, ignore_index = True)\n",
    "\n",
    "data = {'gene' : 'PRKCB',\n",
    "        'sgRNA' : 'GGCCGCCAGAGCCGGCGCAG'}\n",
    "df_galvo_rescreen = df_galvo_rescreen.append(data, ignore_index = True)\n",
    "\n",
    "data = {'gene' : 'PRKCB',\n",
    "        'sgRNA' : 'AGCTGGGCGAGTGACAGCCC'}\n",
    "df_galvo_rescreen = df_galvo_rescreen.append(data, ignore_index = True)\n",
    "\n",
    "\n",
    "data = {'gene' : 'IL4R',\n",
    "        'sgRNA' : 'TGGAGCAGGGGCGCGCAGGT'}\n",
    "df_galvo_rescreen = df_galvo_rescreen.append(data, ignore_index = True)\n",
    "\n",
    "data = {'gene' : 'IL4R',\n",
    "        'sgRNA' : 'GGGCGCGCAGGTAGGATCCG'}\n",
    "df_galvo_rescreen = df_galvo_rescreen.append(data, ignore_index = True)\n",
    "\n",
    "data = {'gene' : 'HCAR2',\n",
    "        'sgRNA' : 'CACTAGCCGCACTCATGAAT'}\n",
    "df_galvo_rescreen = df_galvo_rescreen.append(data, ignore_index = True)\n",
    "\n",
    "data = {'gene' : 'HCAR2',\n",
    "        'sgRNA' : 'TAGTGAATGCTCCAGCAAGG'}\n",
    "df_galvo_rescreen = df_galvo_rescreen.append(data, ignore_index = True)\n",
    "\n",
    "data = {'gene' : 'B3GAT3',\n",
    "        'sgRNA' : 'GTTCTTCAGCTTCAGCTTCA'}\n",
    "df_galvo_rescreen = df_galvo_rescreen.append(data, ignore_index = True)\n",
    "\n",
    "data = {'gene' : 'B3GAT3',\n",
    "        'sgRNA' : 'CCGAGCAGGCGGGGTCTGCA'}\n",
    "df_galvo_rescreen = df_galvo_rescreen.append(data, ignore_index = True)\n",
    "\n",
    "data = {'gene' : 'CHSY1',\n",
    "        'sgRNA' : 'GCAATGGCGAGCTAAGCCGG'}\n",
    "df_galvo_rescreen = df_galvo_rescreen.append(data, ignore_index = True)\n",
    "\n",
    "data = {'gene' : 'CHSY1',\n",
    "        'sgRNA' : 'GGCGCCGGCTACGAAGAGGA'}\n",
    "df_galvo_rescreen = df_galvo_rescreen.append(data, ignore_index = True)\n",
    "\n",
    "data = {'gene' : 'CHSY1',\n",
    "        'sgRNA' : 'GTCCCCGTCCTCTTCGTAGC'}\n",
    "df_galvo_rescreen = df_galvo_rescreen.append(data, ignore_index = True)\n",
    "\n",
    "data = {'gene' : 'CHST9',\n",
    "        'sgRNA' : 'GCGCACTCCTGGCAGCCGTG'}\n",
    "df_galvo_rescreen = df_galvo_rescreen.append(data, ignore_index = True)\n",
    "\n",
    "data = {'gene' : 'CHST9',\n",
    "        'sgRNA' : 'AGCCGTGAGGTGGCTGAGAG'}\n",
    "df_galvo_rescreen = df_galvo_rescreen.append(data, ignore_index = True)\n",
    "\n",
    "data = {'gene' : 'CHST12',\n",
    "        'sgRNA' : 'GGCGCGAGGTGAGGGGCGCG'}\n",
    "df_galvo_rescreen = df_galvo_rescreen.append(data, ignore_index = True)\n",
    "\n",
    "data = {'gene' : 'CHST12',\n",
    "        'sgRNA' : 'GGCTGCGGGCGCGAGGTGAG'}\n",
    "df_galvo_rescreen = df_galvo_rescreen.append(data, ignore_index = True)\n",
    "\n"
   ]
  },
  {
   "cell_type": "code",
   "execution_count": 480,
   "metadata": {},
   "outputs": [
    {
     "data": {
      "text/plain": [
       "2183"
      ]
     },
     "execution_count": 480,
     "metadata": {},
     "output_type": "execute_result"
    }
   ],
   "source": [
    "len(df_galvo_rescreen)"
   ]
  },
  {
   "cell_type": "code",
   "execution_count": 481,
   "metadata": {},
   "outputs": [
    {
     "data": {
      "text/plain": [
       "1069"
      ]
     },
     "execution_count": 481,
     "metadata": {},
     "output_type": "execute_result"
    }
   ],
   "source": [
    "len(df_galvo_rescreen.gene.unique())"
   ]
  },
  {
   "cell_type": "code",
   "execution_count": 482,
   "metadata": {},
   "outputs": [],
   "source": [
    "# okay, now lets fill in each gene with additional sgRNAs\n",
    "# so that each has three\n",
    "df_galvo_rescreen_ = pd.DataFrame()\n",
    "\n",
    "for g, d  in df_galvo_rescreen.groupby('gene'):\n",
    "    df_dolc_ = df_dolc_setB[df_dolc_setB.annotated_gene_symbol == g]\n",
    "        \n",
    "    count = 0\n",
    "    while (len(d) < 3) and ((len(df_dolc_) - count) > 0):\n",
    "        data = {'gene' : g, 'sgRNA' : df_dolc_.iloc[count].sgRNA_sequence,\n",
    "               'log2fold_diff_mean' : np.nan}\n",
    "        d = d.append(data, ignore_index = True)\n",
    "        count += 1\n",
    "            \n",
    "    df_galvo_rescreen_ = df_galvo_rescreen_.append(d, ignore_index = True)\n",
    "    "
   ]
  },
  {
   "cell_type": "code",
   "execution_count": 483,
   "metadata": {},
   "outputs": [
    {
     "data": {
      "text/plain": [
       "3205"
      ]
     },
     "execution_count": 483,
     "metadata": {},
     "output_type": "execute_result"
    }
   ],
   "source": [
    "len(df_galvo_rescreen_)"
   ]
  },
  {
   "cell_type": "code",
   "execution_count": 484,
   "metadata": {},
   "outputs": [
    {
     "data": {
      "text/plain": [
       "1069"
      ]
     },
     "execution_count": 484,
     "metadata": {},
     "output_type": "execute_result"
    }
   ],
   "source": [
    "len(df_galvo_rescreen_.gene.unique())"
   ]
  },
  {
   "cell_type": "code",
   "execution_count": 485,
   "metadata": {},
   "outputs": [
    {
     "data": {
      "text/html": [
       "<div>\n",
       "<style scoped>\n",
       "    .dataframe tbody tr th:only-of-type {\n",
       "        vertical-align: middle;\n",
       "    }\n",
       "\n",
       "    .dataframe tbody tr th {\n",
       "        vertical-align: top;\n",
       "    }\n",
       "\n",
       "    .dataframe thead th {\n",
       "        text-align: right;\n",
       "    }\n",
       "</style>\n",
       "<table border=\"1\" class=\"dataframe\">\n",
       "  <thead>\n",
       "    <tr style=\"text-align: right;\">\n",
       "      <th></th>\n",
       "      <th>gene</th>\n",
       "      <th>sgRNA</th>\n",
       "      <th>log2fold_diff_mean</th>\n",
       "    </tr>\n",
       "  </thead>\n",
       "  <tbody>\n",
       "    <tr>\n",
       "      <th>2312</th>\n",
       "      <td>RICTOR</td>\n",
       "      <td>CGGGCTTACCTCGTACTCGG</td>\n",
       "      <td>NaN</td>\n",
       "    </tr>\n",
       "    <tr>\n",
       "      <th>2313</th>\n",
       "      <td>RICTOR</td>\n",
       "      <td>AATATGGCGGCGATCGGCCG</td>\n",
       "      <td>NaN</td>\n",
       "    </tr>\n",
       "    <tr>\n",
       "      <th>2314</th>\n",
       "      <td>RICTOR</td>\n",
       "      <td>CAGCGGGCTTACCTCGTACT</td>\n",
       "      <td>NaN</td>\n",
       "    </tr>\n",
       "  </tbody>\n",
       "</table>\n",
       "</div>"
      ],
      "text/plain": [
       "        gene                 sgRNA  log2fold_diff_mean\n",
       "2312  RICTOR  CGGGCTTACCTCGTACTCGG                 NaN\n",
       "2313  RICTOR  AATATGGCGGCGATCGGCCG                 NaN\n",
       "2314  RICTOR  CAGCGGGCTTACCTCGTACT                 NaN"
      ]
     },
     "execution_count": 485,
     "metadata": {},
     "output_type": "execute_result"
    }
   ],
   "source": [
    "df_galvo_rescreen_[df_galvo_rescreen_.gene == 'RICTOR']"
   ]
  },
  {
   "cell_type": "code",
   "execution_count": 489,
   "metadata": {},
   "outputs": [],
   "source": [
    "# df_galvo_rescreen_.gene.unique()[-600:]"
   ]
  },
  {
   "cell_type": "markdown",
   "metadata": {},
   "source": [
    "## Lets also consider sublibraries of ECM assay and differentiation.\n"
   ]
  },
  {
   "cell_type": "code",
   "execution_count": 344,
   "metadata": {},
   "outputs": [],
   "source": [
    "# df_fdr[df_fdr.exp.str.contains('ECM')][df_fdr.fdr<=0.65]"
   ]
  },
  {
   "cell_type": "code",
   "execution_count": 490,
   "metadata": {},
   "outputs": [
    {
     "name": "stderr",
     "output_type": "stream",
     "text": [
      "/opt/anaconda3/lib/python3.7/site-packages/ipykernel_launcher.py:3: UserWarning: Boolean Series key will be reindexed to match DataFrame index.\n",
      "  This is separate from the ipykernel package so we can avoid doing imports until\n"
     ]
    }
   ],
   "source": [
    "genes_ecm = []\n",
    "count = 0\n",
    "for g in np.sort(df_fdr[df_fdr.exp.str.contains('ECM')][df_fdr.fdr<=0.8].gene.unique()):\n",
    "    if 'CONTROL' in g:\n",
    "        continue\n",
    "        \n",
    "    # transcription/translation\n",
    "    elif 'RPS' in g:\n",
    "        continue\n",
    "    elif 'RPL' in g:\n",
    "        continue\n",
    "    elif 'POL' in g:\n",
    "        continue\n",
    "    elif 'MED' in g:\n",
    "        continue\n",
    "    elif 'RPP' in g:\n",
    "        continue\n",
    "    elif 'TTF' in g:\n",
    "        continue\n",
    "    elif 'PRPF' in g:\n",
    "        continue\n",
    "    elif 'NOP' in g:\n",
    "        continue\n",
    "    elif 'NOL' in g:\n",
    "        continue\n",
    "    elif 'NOC' in g:\n",
    "        continue\n",
    "    elif 'NOB' in g:\n",
    "        continue\n",
    "    elif 'NRNP' in g:\n",
    "        continue\n",
    "    elif 'CNOT' in g:\n",
    "        continue\n",
    "    elif 'INTS' in g:\n",
    "        continue\n",
    "    elif 'RNASE' in g:\n",
    "        continue\n",
    "    elif 'RPR' in g:\n",
    "        continue\n",
    "    elif 'CPS' in g:\n",
    "        continue   \n",
    "    elif 'DNA' in g:\n",
    "        continue\n",
    "    elif 'SF3B' in g:\n",
    "        continue\n",
    "    elif 'SNRP' in g:\n",
    "        continue\n",
    "    elif 'UTP' in g:\n",
    "        continue\n",
    "        \n",
    "    # histones, HMGB\n",
    "    elif 'HMG' in g:\n",
    "        continue\n",
    "    elif 'HIST' in g:\n",
    "        continue \n",
    "    elif 'SETD' in g:\n",
    "        continue \n",
    "        \n",
    "     \n",
    "    # transcription factors\n",
    "    elif 'ZNF' in g:\n",
    "        continue\n",
    "    elif 'ZC3H' in g:\n",
    "        continue\n",
    "    elif 'ZBTB' in g:\n",
    "        continue    \n",
    "    elif 'EIF' in g:\n",
    "        continue\n",
    "    elif 'DDX' in g:\n",
    "        continue\n",
    "    elif 'CEBDDX' in g:\n",
    "        continue\n",
    "    elif 'SPI1' in g:\n",
    "        continue\n",
    "    elif 'ZZEF1' in g:\n",
    "        continue\n",
    "    elif 'ZFP' in g:\n",
    "        continue\n",
    "    elif 'HOX' in g:\n",
    "        continue\n",
    "    elif 'MYB' in g:\n",
    "        continue\n",
    "    elif 'GTF2' in g:\n",
    "        continue\n",
    "\n",
    "     # oxidative phos\n",
    "    elif 'NDUF' in g:\n",
    "        continue\n",
    "    elif 'ATP' in g:\n",
    "        continue     \n",
    "    elif 'COX' in g:\n",
    "        continue\n",
    "    elif 'TIMM' in g:\n",
    "        continue\n",
    "        \n",
    "    count += 1\n",
    "    genes_ecm = np.append(genes_ecm, g)\n",
    "    \n",
    "#     print(g)"
   ]
  },
  {
   "cell_type": "code",
   "execution_count": 492,
   "metadata": {},
   "outputs": [],
   "source": [
    "# genes_ecm[:600]"
   ]
  },
  {
   "cell_type": "code",
   "execution_count": 493,
   "metadata": {},
   "outputs": [
    {
     "data": {
      "text/plain": [
       "1050"
      ]
     },
     "execution_count": 493,
     "metadata": {},
     "output_type": "execute_result"
    }
   ],
   "source": [
    "len(genes_ecm)"
   ]
  },
  {
   "cell_type": "code",
   "execution_count": 348,
   "metadata": {},
   "outputs": [],
   "source": [
    "## Now lets say I wanted to only take sgRNA that showed a decent effect"
   ]
  },
  {
   "cell_type": "code",
   "execution_count": 349,
   "metadata": {},
   "outputs": [],
   "source": [
    "# .csv"
   ]
  },
  {
   "cell_type": "code",
   "execution_count": 494,
   "metadata": {},
   "outputs": [
    {
     "data": {
      "text/html": [
       "<div>\n",
       "<style scoped>\n",
       "    .dataframe tbody tr th:only-of-type {\n",
       "        vertical-align: middle;\n",
       "    }\n",
       "\n",
       "    .dataframe tbody tr th {\n",
       "        vertical-align: top;\n",
       "    }\n",
       "\n",
       "    .dataframe thead th {\n",
       "        text-align: right;\n",
       "    }\n",
       "</style>\n",
       "<table border=\"1\" class=\"dataframe\">\n",
       "  <thead>\n",
       "    <tr style=\"text-align: right;\">\n",
       "      <th></th>\n",
       "      <th>Unnamed: 0</th>\n",
       "      <th>gene</th>\n",
       "      <th>sgRNA</th>\n",
       "      <th>log2fold_diff_mean</th>\n",
       "    </tr>\n",
       "  </thead>\n",
       "  <tbody>\n",
       "    <tr>\n",
       "      <th>13</th>\n",
       "      <td>13</td>\n",
       "      <td>OR7E24</td>\n",
       "      <td>AAAAAAGAGAATTGGAAAAT</td>\n",
       "      <td>-1.386814</td>\n",
       "    </tr>\n",
       "    <tr>\n",
       "      <th>38</th>\n",
       "      <td>38</td>\n",
       "      <td>HDAC8</td>\n",
       "      <td>AAAAAGCCAGATCTGGAAGG</td>\n",
       "      <td>-0.386053</td>\n",
       "    </tr>\n",
       "    <tr>\n",
       "      <th>90</th>\n",
       "      <td>90</td>\n",
       "      <td>RTCB</td>\n",
       "      <td>AAAACTGTAGCAAAAACTCC</td>\n",
       "      <td>0.009857</td>\n",
       "    </tr>\n",
       "    <tr>\n",
       "      <th>96</th>\n",
       "      <td>96</td>\n",
       "      <td>OR2G6</td>\n",
       "      <td>AAAAGAAACCTCTCTAGCTG</td>\n",
       "      <td>-0.295153</td>\n",
       "    </tr>\n",
       "    <tr>\n",
       "      <th>97</th>\n",
       "      <td>97</td>\n",
       "      <td>ICE1</td>\n",
       "      <td>AAAAGAAACGCTACCCGGCG</td>\n",
       "      <td>0.065687</td>\n",
       "    </tr>\n",
       "  </tbody>\n",
       "</table>\n",
       "</div>"
      ],
      "text/plain": [
       "    Unnamed: 0    gene                 sgRNA  log2fold_diff_mean\n",
       "13          13  OR7E24  AAAAAAGAGAATTGGAAAAT           -1.386814\n",
       "38          38   HDAC8  AAAAAGCCAGATCTGGAAGG           -0.386053\n",
       "90          90    RTCB  AAAACTGTAGCAAAAACTCC            0.009857\n",
       "96          96   OR2G6  AAAAGAAACCTCTCTAGCTG           -0.295153\n",
       "97          97    ICE1  AAAAGAAACGCTACCCGGCG            0.065687"
      ]
     },
     "execution_count": 494,
     "metadata": {},
     "output_type": "execute_result"
    }
   ],
   "source": [
    "files = glob.glob('../../data/screen_summary/screen_log2fold_diffs_sgRNA_ECM_fibrin_goodcollagen_20210826.csv')\n",
    "df_ecm_sg = pd.read_csv(files[0])\n",
    "# df = df[['exp', 'gene', 'log2fold_diff_mean', 'pvalue']]\n",
    "df_ecm_sg = df_ecm_sg[df_ecm_sg.gene.isin(genes_ecm)]\n",
    "df_ecm_sg.head()"
   ]
  },
  {
   "cell_type": "code",
   "execution_count": 495,
   "metadata": {},
   "outputs": [
    {
     "data": {
      "text/html": [
       "<div>\n",
       "<style scoped>\n",
       "    .dataframe tbody tr th:only-of-type {\n",
       "        vertical-align: middle;\n",
       "    }\n",
       "\n",
       "    .dataframe tbody tr th {\n",
       "        vertical-align: top;\n",
       "    }\n",
       "\n",
       "    .dataframe thead th {\n",
       "        text-align: right;\n",
       "    }\n",
       "</style>\n",
       "<table border=\"1\" class=\"dataframe\">\n",
       "  <thead>\n",
       "    <tr style=\"text-align: right;\">\n",
       "      <th></th>\n",
       "      <th>Unnamed: 0</th>\n",
       "      <th>gene</th>\n",
       "      <th>sgRNA</th>\n",
       "      <th>log2fold_diff_mean</th>\n",
       "    </tr>\n",
       "  </thead>\n",
       "  <tbody>\n",
       "    <tr>\n",
       "      <th>19557</th>\n",
       "      <td>19557</td>\n",
       "      <td>APBB1IP</td>\n",
       "      <td>CCTTAGTCCCTCTTGCGTCG</td>\n",
       "      <td>-1.337044</td>\n",
       "    </tr>\n",
       "    <tr>\n",
       "      <th>31486</th>\n",
       "      <td>31486</td>\n",
       "      <td>APBB1IP</td>\n",
       "      <td>GCAAAATGGTTCCATTCGCC</td>\n",
       "      <td>-0.156899</td>\n",
       "    </tr>\n",
       "    <tr>\n",
       "      <th>56943</th>\n",
       "      <td>56943</td>\n",
       "      <td>APBB1IP</td>\n",
       "      <td>TTTGCAGCCTCGACGCAAGA</td>\n",
       "      <td>-0.461501</td>\n",
       "    </tr>\n",
       "  </tbody>\n",
       "</table>\n",
       "</div>"
      ],
      "text/plain": [
       "       Unnamed: 0     gene                 sgRNA  log2fold_diff_mean\n",
       "19557       19557  APBB1IP  CCTTAGTCCCTCTTGCGTCG           -1.337044\n",
       "31486       31486  APBB1IP  GCAAAATGGTTCCATTCGCC           -0.156899\n",
       "56943       56943  APBB1IP  TTTGCAGCCTCGACGCAAGA           -0.461501"
      ]
     },
     "execution_count": 495,
     "metadata": {},
     "output_type": "execute_result"
    }
   ],
   "source": [
    "df_ecm_sg[df_ecm_sg.gene == 'APBB1IP']"
   ]
  },
  {
   "cell_type": "code",
   "execution_count": 496,
   "metadata": {},
   "outputs": [],
   "source": [
    "df_ecm_rescreen = pd.DataFrame()\n",
    "count = 0\n",
    "\n",
    "for g, d  in df_ecm_sg.groupby('gene'):    \n",
    "    d_ = d[abs(d.log2fold_diff_mean)>0.5]\n",
    "    df_ecm_rescreen = df_ecm_rescreen.append(d_[['gene', 'sgRNA']], ignore_index = True)\n",
    "    count += len(d_)\n",
    "#     print(g, d_)"
   ]
  },
  {
   "cell_type": "code",
   "execution_count": 497,
   "metadata": {},
   "outputs": [
    {
     "data": {
      "text/plain": [
       "3145"
      ]
     },
     "execution_count": 497,
     "metadata": {},
     "output_type": "execute_result"
    }
   ],
   "source": [
    "len(df_ecm_sg)"
   ]
  },
  {
   "cell_type": "code",
   "execution_count": 498,
   "metadata": {},
   "outputs": [
    {
     "data": {
      "text/plain": [
       "1590"
      ]
     },
     "execution_count": 498,
     "metadata": {},
     "output_type": "execute_result"
    }
   ],
   "source": [
    "count"
   ]
  },
  {
   "cell_type": "code",
   "execution_count": 499,
   "metadata": {},
   "outputs": [
    {
     "data": {
      "text/html": [
       "<div>\n",
       "<style scoped>\n",
       "    .dataframe tbody tr th:only-of-type {\n",
       "        vertical-align: middle;\n",
       "    }\n",
       "\n",
       "    .dataframe tbody tr th {\n",
       "        vertical-align: top;\n",
       "    }\n",
       "\n",
       "    .dataframe thead th {\n",
       "        text-align: right;\n",
       "    }\n",
       "</style>\n",
       "<table border=\"1\" class=\"dataframe\">\n",
       "  <thead>\n",
       "    <tr style=\"text-align: right;\">\n",
       "      <th></th>\n",
       "      <th>Unnamed: 0</th>\n",
       "      <th>gene</th>\n",
       "      <th>sgRNA</th>\n",
       "      <th>log2fold_diff_mean</th>\n",
       "    </tr>\n",
       "  </thead>\n",
       "  <tbody>\n",
       "    <tr>\n",
       "      <th>13</th>\n",
       "      <td>13</td>\n",
       "      <td>OR7E24</td>\n",
       "      <td>AAAAAAGAGAATTGGAAAAT</td>\n",
       "      <td>-1.097031</td>\n",
       "    </tr>\n",
       "    <tr>\n",
       "      <th>38</th>\n",
       "      <td>38</td>\n",
       "      <td>HDAC8</td>\n",
       "      <td>AAAAAGCCAGATCTGGAAGG</td>\n",
       "      <td>-0.619066</td>\n",
       "    </tr>\n",
       "    <tr>\n",
       "      <th>90</th>\n",
       "      <td>90</td>\n",
       "      <td>RTCB</td>\n",
       "      <td>AAAACTGTAGCAAAAACTCC</td>\n",
       "      <td>-0.063769</td>\n",
       "    </tr>\n",
       "    <tr>\n",
       "      <th>96</th>\n",
       "      <td>96</td>\n",
       "      <td>OR2G6</td>\n",
       "      <td>AAAAGAAACCTCTCTAGCTG</td>\n",
       "      <td>-0.460326</td>\n",
       "    </tr>\n",
       "    <tr>\n",
       "      <th>97</th>\n",
       "      <td>97</td>\n",
       "      <td>ICE1</td>\n",
       "      <td>AAAAGAAACGCTACCCGGCG</td>\n",
       "      <td>0.226436</td>\n",
       "    </tr>\n",
       "  </tbody>\n",
       "</table>\n",
       "</div>"
      ],
      "text/plain": [
       "    Unnamed: 0    gene                 sgRNA  log2fold_diff_mean\n",
       "13          13  OR7E24  AAAAAAGAGAATTGGAAAAT           -1.097031\n",
       "38          38   HDAC8  AAAAAGCCAGATCTGGAAGG           -0.619066\n",
       "90          90    RTCB  AAAACTGTAGCAAAAACTCC           -0.063769\n",
       "96          96   OR2G6  AAAAGAAACCTCTCTAGCTG           -0.460326\n",
       "97          97    ICE1  AAAAGAAACGCTACCCGGCG            0.226436"
      ]
     },
     "execution_count": 499,
     "metadata": {},
     "output_type": "execute_result"
    }
   ],
   "source": [
    "files = glob.glob('../../data/screen_summary/screen_log2fold_diffs_sgRNA_ECM_fibrinonly_20210826.csv')\n",
    "df_ecm_sg = pd.read_csv(files[0])\n",
    "df_ecm_sg = df_ecm_sg[df_ecm_sg.gene.isin(genes_ecm)]\n",
    "df_ecm_sg.head()"
   ]
  },
  {
   "cell_type": "code",
   "execution_count": 500,
   "metadata": {},
   "outputs": [
    {
     "data": {
      "text/html": [
       "<div>\n",
       "<style scoped>\n",
       "    .dataframe tbody tr th:only-of-type {\n",
       "        vertical-align: middle;\n",
       "    }\n",
       "\n",
       "    .dataframe tbody tr th {\n",
       "        vertical-align: top;\n",
       "    }\n",
       "\n",
       "    .dataframe thead th {\n",
       "        text-align: right;\n",
       "    }\n",
       "</style>\n",
       "<table border=\"1\" class=\"dataframe\">\n",
       "  <thead>\n",
       "    <tr style=\"text-align: right;\">\n",
       "      <th></th>\n",
       "      <th>Unnamed: 0</th>\n",
       "      <th>gene</th>\n",
       "      <th>sgRNA</th>\n",
       "      <th>log2fold_diff_mean</th>\n",
       "    </tr>\n",
       "  </thead>\n",
       "  <tbody>\n",
       "    <tr>\n",
       "      <th>19557</th>\n",
       "      <td>19557</td>\n",
       "      <td>APBB1IP</td>\n",
       "      <td>CCTTAGTCCCTCTTGCGTCG</td>\n",
       "      <td>-1.589116</td>\n",
       "    </tr>\n",
       "    <tr>\n",
       "      <th>31486</th>\n",
       "      <td>31486</td>\n",
       "      <td>APBB1IP</td>\n",
       "      <td>GCAAAATGGTTCCATTCGCC</td>\n",
       "      <td>0.051401</td>\n",
       "    </tr>\n",
       "    <tr>\n",
       "      <th>56943</th>\n",
       "      <td>56943</td>\n",
       "      <td>APBB1IP</td>\n",
       "      <td>TTTGCAGCCTCGACGCAAGA</td>\n",
       "      <td>-0.142675</td>\n",
       "    </tr>\n",
       "  </tbody>\n",
       "</table>\n",
       "</div>"
      ],
      "text/plain": [
       "       Unnamed: 0     gene                 sgRNA  log2fold_diff_mean\n",
       "19557       19557  APBB1IP  CCTTAGTCCCTCTTGCGTCG           -1.589116\n",
       "31486       31486  APBB1IP  GCAAAATGGTTCCATTCGCC            0.051401\n",
       "56943       56943  APBB1IP  TTTGCAGCCTCGACGCAAGA           -0.142675"
      ]
     },
     "execution_count": 500,
     "metadata": {},
     "output_type": "execute_result"
    }
   ],
   "source": [
    "df_ecm_sg[df_ecm_sg.gene == 'APBB1IP']"
   ]
  },
  {
   "cell_type": "code",
   "execution_count": 501,
   "metadata": {},
   "outputs": [],
   "source": [
    "count = 0\n",
    "\n",
    "for g, d  in df_ecm_sg.groupby('gene'):    \n",
    "    d_ = d[abs(d.log2fold_diff_mean)>0.5]\n",
    "    df_ecm_rescreen = df_ecm_rescreen.append(d_[['gene', 'sgRNA']], ignore_index = True)\n",
    "    count += len(d_)\n",
    "#     print(g, d_)"
   ]
  },
  {
   "cell_type": "code",
   "execution_count": 502,
   "metadata": {},
   "outputs": [
    {
     "data": {
      "text/plain": [
       "3145"
      ]
     },
     "execution_count": 502,
     "metadata": {},
     "output_type": "execute_result"
    }
   ],
   "source": [
    "len(df_ecm_sg)"
   ]
  },
  {
   "cell_type": "code",
   "execution_count": 503,
   "metadata": {},
   "outputs": [
    {
     "data": {
      "text/plain": [
       "2006"
      ]
     },
     "execution_count": 503,
     "metadata": {},
     "output_type": "execute_result"
    }
   ],
   "source": [
    "count"
   ]
  },
  {
   "cell_type": "code",
   "execution_count": 504,
   "metadata": {},
   "outputs": [],
   "source": [
    "df_ecm_rescreen = df_ecm_rescreen.drop_duplicates()\n",
    "\n"
   ]
  },
  {
   "cell_type": "code",
   "execution_count": 505,
   "metadata": {},
   "outputs": [
    {
     "data": {
      "text/plain": [
       "2166"
      ]
     },
     "execution_count": 505,
     "metadata": {},
     "output_type": "execute_result"
    }
   ],
   "source": [
    "len(df_ecm_rescreen)"
   ]
  },
  {
   "cell_type": "code",
   "execution_count": 506,
   "metadata": {},
   "outputs": [
    {
     "data": {
      "text/plain": [
       "1047"
      ]
     },
     "execution_count": 506,
     "metadata": {},
     "output_type": "execute_result"
    }
   ],
   "source": [
    "len(df_ecm_rescreen.gene.unique())"
   ]
  },
  {
   "cell_type": "code",
   "execution_count": 507,
   "metadata": {},
   "outputs": [],
   "source": [
    "# okay, now lets fill in each gene with additional sgRNAs\n",
    "# so that each has three\n",
    "df_ecm_rescreen_ = pd.DataFrame()\n",
    "\n",
    "for g, d  in df_ecm_rescreen.groupby('gene'):\n",
    "    df_dolc_ = df_dolc_setB[df_dolc_setB.annotated_gene_symbol == g]\n",
    "        \n",
    "    count = 0\n",
    "    while (len(d) < 3) and ((len(df_dolc_) - count) > 0):\n",
    "        data = {'gene' : g, 'sgRNA' : df_dolc_.iloc[count].sgRNA_sequence,\n",
    "               'log2fold_diff_mean' : np.nan}\n",
    "        d = d.append(data, ignore_index = True)\n",
    "        count += 1\n",
    "            \n",
    "    df_ecm_rescreen_ = df_ecm_rescreen_.append(d, ignore_index = True)\n",
    "    "
   ]
  },
  {
   "cell_type": "code",
   "execution_count": 508,
   "metadata": {},
   "outputs": [
    {
     "data": {
      "text/plain": [
       "1047"
      ]
     },
     "execution_count": 508,
     "metadata": {},
     "output_type": "execute_result"
    }
   ],
   "source": [
    "len(df_ecm_rescreen_.gene.unique())"
   ]
  },
  {
   "cell_type": "code",
   "execution_count": 509,
   "metadata": {},
   "outputs": [
    {
     "data": {
      "text/plain": [
       "3134"
      ]
     },
     "execution_count": 509,
     "metadata": {},
     "output_type": "execute_result"
    }
   ],
   "source": [
    "len(df_ecm_rescreen_)"
   ]
  },
  {
   "cell_type": "code",
   "execution_count": null,
   "metadata": {},
   "outputs": [],
   "source": []
  },
  {
   "cell_type": "markdown",
   "metadata": {},
   "source": [
    "## Now lets also generate a set for differentiation"
   ]
  },
  {
   "cell_type": "code",
   "execution_count": 511,
   "metadata": {},
   "outputs": [
    {
     "name": "stderr",
     "output_type": "stream",
     "text": [
      "/opt/anaconda3/lib/python3.7/site-packages/ipykernel_launcher.py:3: UserWarning: Boolean Series key will be reindexed to match DataFrame index.\n",
      "  This is separate from the ipykernel package so we can avoid doing imports until\n"
     ]
    }
   ],
   "source": [
    "genes_diff = []\n",
    "count = 0\n",
    "for g in np.sort(df_fdr[df_fdr.exp.str.contains('differentiation')][df_fdr.fdr<=0.002].gene.unique()):\n",
    "    if 'CONTROL' in g:\n",
    "        continue\n",
    "        \n",
    "    # transcription/translation\n",
    "    elif 'RPS' in g:\n",
    "        continue\n",
    "    elif 'RPL' in g:\n",
    "        continue\n",
    "    elif 'POL' in g:\n",
    "        continue\n",
    "    elif 'MED' in g:\n",
    "        continue\n",
    "    elif 'RPP' in g:\n",
    "        continue\n",
    "    elif 'TTF' in g:\n",
    "        continue\n",
    "    elif 'PRPF' in g:\n",
    "        continue\n",
    "    elif 'NOP' in g:\n",
    "        continue\n",
    "    elif 'NOL' in g:\n",
    "        continue\n",
    "    elif 'NOC' in g:\n",
    "        continue\n",
    "    elif 'NOB' in g:\n",
    "        continue\n",
    "    elif 'NRNP' in g:\n",
    "        continue\n",
    "    elif 'CNOT' in g:\n",
    "        continue\n",
    "    elif 'INTS' in g:\n",
    "        continue\n",
    "    elif 'RNASE' in g:\n",
    "        continue\n",
    "    elif 'RPR' in g:\n",
    "        continue\n",
    "    elif 'CPS' in g:\n",
    "        continue   \n",
    "    elif 'DNA' in g:\n",
    "        continue\n",
    "    elif 'SF3B' in g:\n",
    "        continue\n",
    "    elif 'SNRP' in g:\n",
    "        continue\n",
    "    elif 'UTP' in g:\n",
    "        continue\n",
    "        \n",
    "    # histones, HMGB\n",
    "    elif 'HMG' in g:\n",
    "        continue\n",
    "    elif 'HIST' in g:\n",
    "        continue \n",
    "    elif 'SETD' in g:\n",
    "        continue \n",
    "            \n",
    "#     # transcription factors\n",
    "#     elif 'ZNF' in g:\n",
    "#         continue\n",
    "#     elif 'ZC3H' in g:\n",
    "#         continue\n",
    "#     elif 'ZBTB' in g:\n",
    "#         continue    \n",
    "#     elif 'EIF' in g:\n",
    "#         continue\n",
    "#     elif 'DDX' in g:\n",
    "#         continue\n",
    "#     elif 'ZZEF1' in g:\n",
    "#         continue\n",
    "#     elif 'ZFP' in g:\n",
    "#         continue\n",
    "#     elif 'HOX' in g:\n",
    "#         continue\n",
    "#     elif 'MYB' in g:\n",
    "#         continue\n",
    "#     elif 'GTF2' in g:\n",
    "#         continue\n",
    "\n",
    "#      # oxidative phos\n",
    "#     elif 'NDUF' in g:\n",
    "#         continue\n",
    "#     elif 'ATP' in g:\n",
    "#         continue     \n",
    "#     elif 'COX' in g:\n",
    "#         continue\n",
    "#     elif 'TIMM' in g:\n",
    "#         continue\n",
    "        \n",
    "    count += 1\n",
    "    genes_diff = np.append(genes_diff, g)\n",
    "    \n",
    "#     print(g)"
   ]
  },
  {
   "cell_type": "code",
   "execution_count": 512,
   "metadata": {},
   "outputs": [
    {
     "data": {
      "text/plain": [
       "array(['ABCF2', 'ABHD17A', 'ABHD17B', 'ACAD9', 'ACPP', 'ACSL4', 'ACTR5',\n",
       "       'ACTR6', 'ADAP1', 'ADNP', 'ADO', 'AEBP2', 'AFF4', 'AGTPBP1',\n",
       "       'AHCYL1', 'AHR', 'AHSA1', 'AKR7A2', 'AKT2', 'ALAD', 'AMBRA1',\n",
       "       'ANKRD11', 'ANKRD17', 'ANP32B', 'AP1M1', 'APLF', 'ARFGEF2',\n",
       "       'ARHGAP45', 'ARHGDIB', 'ARID1A', 'ARID2', 'ARID3A', 'ARID4A',\n",
       "       'ARID4B', 'ARIH2', 'ARL1', 'ARL8B', 'ARNT', 'ARNTL', 'ASF1A',\n",
       "       'ASH2L', 'ATAD5', 'ATE1', 'ATF7', 'ATF7IP', 'ATG10', 'ATG16L1',\n",
       "       'ATG4C', 'ATG5', 'ATG7', 'ATIC', 'ATP1A1', 'ATP1B3', 'ATP5D',\n",
       "       'ATP5E', 'ATP5H', 'ATP5O', 'ATP6V0A1', 'AURKA', 'B3GNT2', 'BAK1',\n",
       "       'BAX', 'BBX', 'BCL2', 'BCL2A1', 'BCL2L11', 'BCL3', 'BCS1L',\n",
       "       'BEND3', 'BID', 'BIRC2', 'BMS1', 'BOLA3', 'BPTF', 'BRAF', 'BRD8',\n",
       "       'BRI3', 'BRMS1', 'BRPF1', 'BRWD3', 'BSG', 'BTAF1', 'C15orf57',\n",
       "       'C16orf59', 'C18orf8', 'C19orf25', 'C2orf49', 'C6orf99', 'C7orf26',\n",
       "       'CAND1', 'CAP1', 'CARD9', 'CARM1', 'CARS2', 'CASP8AP2', 'CASP9',\n",
       "       'CBLL1', 'CBX3', 'CCAR1', 'CCDC25', 'CCDC6', 'CCNA2', 'CCNC',\n",
       "       'CCNE1', 'CCNE2', 'CCNF', 'CCNL2', 'CCZ1', 'CD164', 'CDC73',\n",
       "       'CDK12', 'CDK13', 'CDK2', 'CDK4', 'CEBPA', 'CEBPB', 'CEBPE',\n",
       "       'CENPH', 'CENPK', 'CENPN', 'CEP152', 'CEP350', 'CEP55', 'CERS2',\n",
       "       'CERS6', 'CFAP20', 'CFDP1', 'CGGBP1', 'CHD4', 'CHKA', 'CHORDC1',\n",
       "       'CHTF18', 'CITED2', 'CLASRP', 'CLDND1', 'CLNS1A', 'CLUH', 'CMTR1',\n",
       "       'CNIH4', 'COA5', 'COA7', 'COG2', 'COG4', 'COIL', 'COPS9', 'COQ3',\n",
       "       'COQ6', 'COX10', 'COX18', 'COX20', 'COX4I1', 'COX5A', 'COX6B1',\n",
       "       'COX6C', 'COX7B', 'CPD', 'CPNE4', 'CPOX', 'CRCP', 'CREBBP',\n",
       "       'CSDE1', 'CSNK1D', 'CSNK2A1', 'CSTF2', 'CSTF3', 'CTBP1', 'CTDSPL2',\n",
       "       'CTNNBL1', 'CTU1', 'CUL1', 'CXXC1', 'CYFIP1', 'DAP3', 'DBR1',\n",
       "       'DCTN3', 'DCUN1D1', 'DDA1', 'DDB1', 'DDX39B', 'DDX46', 'DDX6',\n",
       "       'DEGS1', 'DEK', 'DENND4A', 'DGCR8', 'DHDDS', 'DHPS', 'DHX30',\n",
       "       'DHX36', 'DICER1', 'DLGAP5', 'DLX4', 'DNTTIP1', 'DNTTIP2', 'DOCK2',\n",
       "       'DOHH', 'DPF2', 'DPH1', 'DPM3', 'DRG1', 'DROSHA', 'DSCC1', 'DSTYK',\n",
       "       'DTX2', 'DTYMK', 'DUT', 'DYRK1A', 'E2F1', 'E2F7', 'EARS2', 'ECSIT',\n",
       "       'EDC4', 'EDRF1', 'EEF1E1', 'EIF1', 'EIF2D', 'EIF3A', 'EIF3F',\n",
       "       'EIF3H', 'EIF3I', 'EIF4E', 'EIF4ENIF1', 'EIF4G1', 'EIF5A', 'EIF5B',\n",
       "       'ELF4', 'ELMO2', 'ELOB', 'ELOC', 'ELOVL1', 'ELOVL5', 'EP300',\n",
       "       'EPC2', 'EPS15', 'ERCC2', 'ERCC3', 'ESRRA', 'ETV5', 'EZH2', 'FADD',\n",
       "       'FAM114A2', 'FAM122A', 'FAM13B', 'FAM60A', 'FAM76A', 'FAM91A1',\n",
       "       'FAM98B', 'FANCA', 'FANCB', 'FANCD2', 'FAR1', 'FBN2', 'FBXL4',\n",
       "       'FBXO38', 'FBXO42', 'FIBP', 'FIG4', 'FIGNL1', 'FIS1', 'FLAD1',\n",
       "       'FLCN', 'FLI1', 'FLII', 'FLVCR1', 'FMNL1', 'FNBP4', 'FNIP1',\n",
       "       'FNTA', 'FOXK1', 'FPGS', 'FUBP1', 'FXYD5', 'FZR1', 'G3BP2',\n",
       "       'GATA6', 'GATB', 'GCLC', 'GCN1', 'GDAP2', 'GDI2', 'GEMIN2',\n",
       "       'GEMIN5', 'GEMIN8', 'GFM1', 'GIGYF2', 'GMDS', 'GMEB1', 'GMEB2',\n",
       "       'GNAI2', 'GNG2', 'GNG5', 'GNPAT', 'GNPNAT1', 'GOLGA7', 'GOT2',\n",
       "       'GPN3', 'GPR108', 'GPSM3', 'GRSF1', 'GSS', 'GTF2A1', 'GTF2A2',\n",
       "       'GTF2E1', 'GTF2E2', 'GTF2H5', 'GTF3C3', 'GTF3C6', 'GTSE1', 'H2AFZ',\n",
       "       'HACD2', 'HACE1', 'HCCS', 'HCFC2', 'HDAC2', 'HEATR1', 'HELZ',\n",
       "       'HGS', 'HHEX', 'HIC2', 'HINFP', 'HIPK2', 'HJURP', 'HMBS',\n",
       "       'HSD17B10', 'HSPBAP1', 'HSPD1', 'HUWE1', 'HYPK', 'ID2', 'IGF1R',\n",
       "       'IMP3', 'IMP4', 'ING3', 'INO80C', 'IP6K2', 'IPO11', 'IPO13',\n",
       "       'IPPK', 'IRF2', 'IRF2BP1', 'IRS2', 'ISCA2', 'ISL2', 'ITGB1BP1',\n",
       "       'JMJD1C', 'JPH1', 'KANSL3', 'KAT5', 'KAT6A', 'KCP', 'KDM1A',\n",
       "       'KDM4A', 'KDM4B', 'KDM5B', 'KDM5C', 'KDM6A', 'KDM8', 'KIAA1429',\n",
       "       'KIDINS220', 'KIF14', 'KIN', 'KMT2A', 'KMT2E', 'KXD1', 'L3MBTL2',\n",
       "       'LAMTOR1', 'LAMTOR2', 'LAMTOR3', 'LAMTOR4', 'LAMTOR5', 'LARP4',\n",
       "       'LARS2', 'LBR', 'LEMD3', 'LEO1', 'LIG3', 'LMO4', 'LOC100131150',\n",
       "       'LONP1', 'LRRC41', 'LRRN4', 'LSM10', 'LSM12', 'LSM14A', 'LSM3',\n",
       "       'LUC7L3', 'LYL1', 'MAEA', 'MAP2K2', 'MAPK1', 'MAPK6', 'MAPKAP1',\n",
       "       'MARS2', 'MATR3', 'MAX', 'MBD1', 'MBD2', 'MBD3', 'MBTD1', 'MCOLN1',\n",
       "       'MCRS1', 'MEAF6', 'MEIS2', 'MEMO1', 'MEN1', 'MESDC1', 'METAP2',\n",
       "       'METTL1', 'METTL17', 'METTL23', 'METTL3', 'METTL5', 'MFAP3',\n",
       "       'MGEA5', 'MIEF1', 'MIER3', 'MIPEP', 'MIS18A', 'MLST8', 'MNAT1',\n",
       "       'MOB4', 'MON1B', 'MON2', 'MPP6', 'MRGBP', 'MSL2', 'MTA2', 'MTERF3',\n",
       "       'MTF1', 'MTF2', 'MTFMT', 'MTIF2', 'MTMR3', 'MTMR4', 'MYB', 'MYCBP',\n",
       "       'MYL12A', 'MYL6', 'MYO9B', 'N6AMT1', 'NAA15', 'NAA30', 'NABP1',\n",
       "       'NABP2', 'NAE1', 'NBAS', 'NBEAL2', 'NCDN', 'NCOA6', 'NCOR1',\n",
       "       'NDUFA1', 'NDUFA3', 'NDUFA4', 'NDUFA5', 'NDUFA8', 'NDUFA9',\n",
       "       'NDUFAF1', 'NDUFAF4', 'NDUFAF5', 'NDUFAF6', 'NDUFB10', 'NDUFB2',\n",
       "       'NDUFB4', 'NDUFB5', 'NDUFB6', 'NDUFB9', 'NDUFC1', 'NDUFS1',\n",
       "       'NDUFS2', 'NDUFS5', 'NDUFS6', 'NDUFS7', 'NDUFS8', 'NEDD8', 'NELFA',\n",
       "       'NF1', 'NFIC', 'NFU1', 'NFYC', 'NIPBL', 'NONO', 'NRAS', 'NSD2',\n",
       "       'NSFL1C', 'NSMCE1', 'NSMCE4A', 'NUBP1', 'NUDCD2', 'NUDCD3',\n",
       "       'NUDT3', 'NUDT4', 'NUP188', 'OGT', 'OSTM1', 'OTUD6B', 'P2RY2',\n",
       "       'PAICS', 'PAN3', 'PARS2', 'PATZ1', 'PCBP2', 'PCYT2', 'PDAP1',\n",
       "       'PDCD10', 'PDCL', 'PDE12', 'PDGFRA', 'PDPK1', 'PDS5B', 'PET117',\n",
       "       'PEX13', 'PEX19', 'PEX6', 'PEX7', 'PFAS', 'PGGT1B', 'PGRMC2',\n",
       "       'PHF14', 'PHF3', 'PHLPP1', 'PIAS4', 'PIK3C3', 'PIK3R4', 'PIN1',\n",
       "       'PITRM1', 'PKNOX1', 'PLAGL2', 'PMAIP1', 'PMPCA', 'PNISR', 'PNPT1',\n",
       "       'PPARGC1B', 'PPIE', 'PPIL1', 'PPIP5K1', 'PPIP5K2', 'PPM1F',\n",
       "       'PPP1CA', 'PPP1CB', 'PPP1R10', 'PPP1R11', 'PPP1R18', 'PPP1R2',\n",
       "       'PPP1R7', 'PPP2CA', 'PPP2R1A', 'PPP4C', 'PPP4R2', 'PPWD1', 'PQLC2',\n",
       "       'PRKAA1', 'PRKAR1A', 'PRKDC', 'PRMT7', 'PRMT9', 'PRR14', 'PRR14L',\n",
       "       'PSD4', 'PSEN1', 'PSMB5', 'PSMD10', 'PSMD4', 'PTBP1', 'PTMA',\n",
       "       'PTTG1', 'PUF60', 'PUM1', 'PUS3', 'RAB11A', 'RAB11B', 'RAB14',\n",
       "       'RAB33B', 'RAB5C', 'RAB7B', 'RABGAP1', 'RAC2', 'RACGAP1', 'RAD50',\n",
       "       'RAF1', 'RAN', 'RANBP3', 'RAP1A', 'RAP1GDS1', 'RAP2C', 'RARA',\n",
       "       'RASA2', 'RASA3', 'RBBP4', 'RBFA', 'RBM15', 'RBM27', 'RBM41',\n",
       "       'RBM5', 'RBPJ', 'RBSN', 'RCC1L', 'RCL1', 'RCOR3', 'RER1', 'RFC1',\n",
       "       'RFC2', 'RFC5', 'RFX5', 'RGS19', 'RHOA', 'RHOG', 'RIF1', 'RNF11',\n",
       "       'RNF111', 'RNF20', 'RNF4', 'RNF40', 'RNGTT', 'RRAGA', 'RRAGC',\n",
       "       'RRM1', 'RRM2', 'RTF1', 'RXRA', 'SAMD12', 'SAP30BP', 'SARNP',\n",
       "       'SASH3', 'SAXO1', 'SCAF4', 'SEC14L1', 'SEC61B', 'SENP1', 'SENP6',\n",
       "       'SERBP1', 'SHOC2', 'SIN3B', 'SIRT1', 'SLC16A12', 'SLC25A10',\n",
       "       'SLC31A1', 'SLC36A1', 'SLC38A6', 'SLC48A1', 'SLMAP', 'SMARCA5',\n",
       "       'SMARCB1', 'SMARCC1', 'SMARCC2', 'SMARCD2', 'SMARCE1', 'SMC3',\n",
       "       'SMC4', 'SMC5', 'SMIM15', 'SMNDC1', 'SMYD2', 'SNAPIN', 'SNX27',\n",
       "       'SOD1', 'SPATA3', 'SPTLC2', 'SPTSSA', 'SQLE', 'SREK1', 'SRF',\n",
       "       'SRRM2', 'SRRT', 'SRSF10', 'SS18', 'SSBP1', 'STIP1', 'STK10',\n",
       "       'STK4', 'STK40', 'STRADA', 'STRIP1', 'SUGT1', 'SUMO2', 'SUPT20H',\n",
       "       'SUPT3H', 'SUV39H1', 'SUZ12', 'SYMPK', 'SYT3', 'TACC3', 'TADA1',\n",
       "       'TAF2', 'TAF3', 'TAF4', 'TAF6L', 'TAF7', 'TARDBP', 'TARS2',\n",
       "       'TBC1D5', 'TBC1D9B', 'TBCA', 'TBCK', 'TBPL1', 'TCERG1', 'TCF4',\n",
       "       'TCIRG1', 'TFAM', 'TFB1M', 'TFEB', 'TGFBR1', 'TGFBR2', 'THOC1',\n",
       "       'THOC2', 'THOC6', 'THRA', 'TIMMDC1', 'TIPRL', 'TLK1', 'TM2D2',\n",
       "       'TMEM126B', 'TMSB4X', 'TOMM20', 'TOP1', 'TOX4', 'TPD52L2', 'TPR',\n",
       "       'TRAF2', 'TRERF1', 'TRIB1', 'TRIB2', 'TRIM24', 'TRIP13', 'TRMT10C',\n",
       "       'TRMT5', 'TRNAU1AP', 'TSC1', 'TSSC1', 'TSTA3', 'TTC39C', 'TTC4',\n",
       "       'TUT1', 'UAP1', 'UBA2', 'UBA3', 'UBE2A', 'UBE2E1', 'UBE2H',\n",
       "       'UBE2O', 'UBE3D', 'UCHL3', 'UGCG', 'UGDH', 'UNC45A', 'UPF2',\n",
       "       'UQCRB', 'UQCRC1', 'UROS', 'USB1', 'USF1', 'USP19', 'USP22',\n",
       "       'USP32', 'USP34', 'USP7', 'USP8', 'VAC14', 'VPS16', 'VPS18',\n",
       "       'VPS26A', 'VPS33A', 'VPS33B', 'VPS35', 'VPS39', 'VPS41', 'VPS51',\n",
       "       'VPS53', 'VPS54', 'WASHC2A', 'WBP1L', 'WDR11', 'WDR24', 'WDR26',\n",
       "       'WDR36', 'WDR59', 'WDR61', 'WDR7', 'WIPI2', 'WSB2', 'XPNPEP1',\n",
       "       'XPO1', 'XPO6', 'XPOT', 'XPR1', 'XRN1', 'YAE1D1', 'YEATS4',\n",
       "       'YIPF5', 'YLPM1', 'YPEL5', 'YTHDC1', 'YTHDF2', 'YWHAE', 'YY1',\n",
       "       'ZBTB11', 'ZBTB7A', 'ZC3H10', 'ZC3H15', 'ZC3H8', 'ZC3HC1', 'ZCRB1',\n",
       "       'ZDHHC5', 'ZFP64', 'ZFR', 'ZMYND8', 'ZNF101', 'ZNF143', 'ZNF236',\n",
       "       'ZNF281', 'ZNF496', 'ZNF638', 'ZNF639', 'ZNF699', 'ZNF865',\n",
       "       'ZSWIM8'], dtype='<U32')"
      ]
     },
     "execution_count": 512,
     "metadata": {},
     "output_type": "execute_result"
    }
   ],
   "source": [
    "genes_diff"
   ]
  },
  {
   "cell_type": "code",
   "execution_count": 513,
   "metadata": {},
   "outputs": [
    {
     "data": {
      "text/plain": [
       "815"
      ]
     },
     "execution_count": 513,
     "metadata": {},
     "output_type": "execute_result"
    }
   ],
   "source": [
    "len(genes_diff)"
   ]
  },
  {
   "cell_type": "code",
   "execution_count": 514,
   "metadata": {},
   "outputs": [
    {
     "data": {
      "text/html": [
       "<div>\n",
       "<style scoped>\n",
       "    .dataframe tbody tr th:only-of-type {\n",
       "        vertical-align: middle;\n",
       "    }\n",
       "\n",
       "    .dataframe tbody tr th {\n",
       "        vertical-align: top;\n",
       "    }\n",
       "\n",
       "    .dataframe thead th {\n",
       "        text-align: right;\n",
       "    }\n",
       "</style>\n",
       "<table border=\"1\" class=\"dataframe\">\n",
       "  <thead>\n",
       "    <tr style=\"text-align: right;\">\n",
       "      <th></th>\n",
       "      <th>Unnamed: 0</th>\n",
       "      <th>gene</th>\n",
       "      <th>sgRNA</th>\n",
       "      <th>log2fold_diff_mean</th>\n",
       "    </tr>\n",
       "  </thead>\n",
       "  <tbody>\n",
       "    <tr>\n",
       "      <th>116</th>\n",
       "      <td>116</td>\n",
       "      <td>WDR24</td>\n",
       "      <td>AAAAGATTGGGGTTCGCGCG</td>\n",
       "      <td>0.335347</td>\n",
       "    </tr>\n",
       "    <tr>\n",
       "      <th>131</th>\n",
       "      <td>131</td>\n",
       "      <td>ATF7IP</td>\n",
       "      <td>AAAAGCTGAGGCGGCAACGT</td>\n",
       "      <td>-0.289331</td>\n",
       "    </tr>\n",
       "    <tr>\n",
       "      <th>134</th>\n",
       "      <td>134</td>\n",
       "      <td>SMNDC1</td>\n",
       "      <td>AAAAGGAAGAACTCGGTCGG</td>\n",
       "      <td>-0.679318</td>\n",
       "    </tr>\n",
       "    <tr>\n",
       "      <th>140</th>\n",
       "      <td>140</td>\n",
       "      <td>VPS16</td>\n",
       "      <td>AAAAGGCAGAGTCCCCGAGT</td>\n",
       "      <td>0.357944</td>\n",
       "    </tr>\n",
       "    <tr>\n",
       "      <th>161</th>\n",
       "      <td>161</td>\n",
       "      <td>ZMYND8</td>\n",
       "      <td>AAAAGTCGAGCTTACCTCTG</td>\n",
       "      <td>-0.320497</td>\n",
       "    </tr>\n",
       "  </tbody>\n",
       "</table>\n",
       "</div>"
      ],
      "text/plain": [
       "     Unnamed: 0    gene                 sgRNA  log2fold_diff_mean\n",
       "116         116   WDR24  AAAAGATTGGGGTTCGCGCG            0.335347\n",
       "131         131  ATF7IP  AAAAGCTGAGGCGGCAACGT           -0.289331\n",
       "134         134  SMNDC1  AAAAGGAAGAACTCGGTCGG           -0.679318\n",
       "140         140   VPS16  AAAAGGCAGAGTCCCCGAGT            0.357944\n",
       "161         161  ZMYND8  AAAAGTCGAGCTTACCTCTG           -0.320497"
      ]
     },
     "execution_count": 514,
     "metadata": {},
     "output_type": "execute_result"
    }
   ],
   "source": [
    "# now if I wanted to remove the weak sgRNAs\n",
    "files = glob.glob('../../data/screen_summary/screen_log2fold_diffs_sgRNA_differentiation_all_20210826.csv')\n",
    "df_diff_sg = pd.read_csv(files[0])\n",
    "# df = df[['exp', 'gene', 'log2fold_diff_mean', 'pvalue']]\n",
    "df_diff_sg = df_diff_sg[df_diff_sg.gene.isin(genes_diff)]\n",
    "df_diff_sg.head()"
   ]
  },
  {
   "cell_type": "code",
   "execution_count": 525,
   "metadata": {},
   "outputs": [],
   "source": [
    "df_diff_rescreen = pd.DataFrame()\n",
    "\n",
    "count_diff = 0\n",
    "for g, d  in df_diff_sg.groupby('gene'):\n",
    "    \n",
    "    d_ = d[abs(d.log2fold_diff_mean)>0.35]\n",
    "    df_diff_rescreen = df_diff_rescreen.append(d_[['gene', 'sgRNA']], ignore_index = True)\n",
    "    count_diff += len(d_)\n",
    "#     print(g, d_)"
   ]
  },
  {
   "cell_type": "code",
   "execution_count": 526,
   "metadata": {},
   "outputs": [],
   "source": [
    "# df_diff_sg[df_diff_sg.gene == 'DICER1']"
   ]
  },
  {
   "cell_type": "code",
   "execution_count": 527,
   "metadata": {},
   "outputs": [
    {
     "data": {
      "text/plain": [
       "2445"
      ]
     },
     "execution_count": 527,
     "metadata": {},
     "output_type": "execute_result"
    }
   ],
   "source": [
    "len(df_diff_sg)"
   ]
  },
  {
   "cell_type": "code",
   "execution_count": 528,
   "metadata": {},
   "outputs": [
    {
     "data": {
      "text/plain": [
       "1385"
      ]
     },
     "execution_count": 528,
     "metadata": {},
     "output_type": "execute_result"
    }
   ],
   "source": [
    "count_diff"
   ]
  },
  {
   "cell_type": "code",
   "execution_count": 529,
   "metadata": {},
   "outputs": [
    {
     "data": {
      "text/plain": [
       "1385"
      ]
     },
     "execution_count": 529,
     "metadata": {},
     "output_type": "execute_result"
    }
   ],
   "source": [
    "len(df_diff_rescreen)"
   ]
  },
  {
   "cell_type": "code",
   "execution_count": 530,
   "metadata": {},
   "outputs": [
    {
     "data": {
      "text/plain": [
       "697"
      ]
     },
     "execution_count": 530,
     "metadata": {},
     "output_type": "execute_result"
    }
   ],
   "source": [
    "len(df_diff_rescreen.gene.unique())"
   ]
  },
  {
   "cell_type": "code",
   "execution_count": 531,
   "metadata": {},
   "outputs": [],
   "source": [
    "# okay, now lets fill in each gene with additional sgRNAs\n",
    "# so that each has three\n",
    "df_diff_rescreen_ = pd.DataFrame()\n",
    "\n",
    "for g, d  in df_diff_rescreen.groupby('gene'):\n",
    "    df_dolc_ = df_dolc_setB[df_dolc_setB.annotated_gene_symbol == g]\n",
    "        \n",
    "    count = 0\n",
    "    while (len(d) < 3) and ((len(df_dolc_) - count) > 0):\n",
    "        data = {'gene' : g, 'sgRNA' : df_dolc_.iloc[count].sgRNA_sequence,\n",
    "               'log2fold_diff_mean' : np.nan}\n",
    "        d = d.append(data, ignore_index = True)\n",
    "        count += 1\n",
    "            \n",
    "    df_diff_rescreen_ = df_diff_rescreen_.append(d, ignore_index = True)"
   ]
  },
  {
   "cell_type": "code",
   "execution_count": 532,
   "metadata": {},
   "outputs": [
    {
     "data": {
      "text/plain": [
       "697"
      ]
     },
     "execution_count": 532,
     "metadata": {},
     "output_type": "execute_result"
    }
   ],
   "source": [
    "len(df_diff_rescreen_.gene.unique())"
   ]
  },
  {
   "cell_type": "code",
   "execution_count": 533,
   "metadata": {},
   "outputs": [
    {
     "data": {
      "text/plain": [
       "2091"
      ]
     },
     "execution_count": 533,
     "metadata": {},
     "output_type": "execute_result"
    }
   ],
   "source": [
    "len(df_diff_rescreen_)"
   ]
  },
  {
   "cell_type": "code",
   "execution_count": null,
   "metadata": {},
   "outputs": [],
   "source": []
  },
  {
   "cell_type": "markdown",
   "metadata": {},
   "source": [
    "## I still need a large number of controls. Lets aim for 250 guides (versus 500 in the original)\n",
    "\n",
    "I think it might be best to use the transwell data 6hr, 10% FBS gradient"
   ]
  },
  {
   "cell_type": "code",
   "execution_count": 534,
   "metadata": {},
   "outputs": [
    {
     "data": {
      "text/html": [
       "<div>\n",
       "<style scoped>\n",
       "    .dataframe tbody tr th:only-of-type {\n",
       "        vertical-align: middle;\n",
       "    }\n",
       "\n",
       "    .dataframe tbody tr th {\n",
       "        vertical-align: top;\n",
       "    }\n",
       "\n",
       "    .dataframe thead th {\n",
       "        text-align: right;\n",
       "    }\n",
       "</style>\n",
       "<table border=\"1\" class=\"dataframe\">\n",
       "  <thead>\n",
       "    <tr style=\"text-align: right;\">\n",
       "      <th></th>\n",
       "      <th>Unnamed: 0</th>\n",
       "      <th>gene</th>\n",
       "      <th>sgRNA</th>\n",
       "      <th>log2fold_diff_mean</th>\n",
       "    </tr>\n",
       "  </thead>\n",
       "  <tbody>\n",
       "    <tr>\n",
       "      <th>61</th>\n",
       "      <td>61</td>\n",
       "      <td>CONTROL</td>\n",
       "      <td>AAAACAGGACGATGTGCGGC</td>\n",
       "      <td>0.225755</td>\n",
       "    </tr>\n",
       "    <tr>\n",
       "      <th>64</th>\n",
       "      <td>64</td>\n",
       "      <td>CONTROL</td>\n",
       "      <td>AAAACATCGACCGAAAGCGT</td>\n",
       "      <td>0.014059</td>\n",
       "    </tr>\n",
       "    <tr>\n",
       "      <th>172</th>\n",
       "      <td>172</td>\n",
       "      <td>CONTROL</td>\n",
       "      <td>AAAATAGCAGTAAACTCAAC</td>\n",
       "      <td>-0.067650</td>\n",
       "    </tr>\n",
       "    <tr>\n",
       "      <th>274</th>\n",
       "      <td>274</td>\n",
       "      <td>CONTROL</td>\n",
       "      <td>AAACCTAGCCCCAATACTTA</td>\n",
       "      <td>0.135557</td>\n",
       "    </tr>\n",
       "    <tr>\n",
       "      <th>284</th>\n",
       "      <td>284</td>\n",
       "      <td>CONTROL</td>\n",
       "      <td>AAACGAGATCGAGAAAGGTA</td>\n",
       "      <td>0.012807</td>\n",
       "    </tr>\n",
       "  </tbody>\n",
       "</table>\n",
       "</div>"
      ],
      "text/plain": [
       "     Unnamed: 0     gene                 sgRNA  log2fold_diff_mean\n",
       "61           61  CONTROL  AAAACAGGACGATGTGCGGC            0.225755\n",
       "64           64  CONTROL  AAAACATCGACCGAAAGCGT            0.014059\n",
       "172         172  CONTROL  AAAATAGCAGTAAACTCAAC           -0.067650\n",
       "274         274  CONTROL  AAACCTAGCCCCAATACTTA            0.135557\n",
       "284         284  CONTROL  AAACGAGATCGAGAAAGGTA            0.012807"
      ]
     },
     "execution_count": 534,
     "metadata": {},
     "output_type": "execute_result"
    }
   ],
   "source": [
    "# now if I wanted to remove the weak sgRNAs\n",
    "files = glob.glob('../../data/screen_summary/screen_log2fold_diffs_sgRNA_transwell_6hr_10_all_20210826.csv')\n",
    "df_ctrl_sg = pd.read_csv(files[0])\n",
    "# df = df[['exp', 'gene', 'log2fold_diff_mean', 'pvalue']]\n",
    "df_ctrl_sg = df_ctrl_sg[df_ctrl_sg.gene.str.contains('CONTROL')]\n",
    "df_ctrl_sg.head()"
   ]
  },
  {
   "cell_type": "code",
   "execution_count": 535,
   "metadata": {},
   "outputs": [
    {
     "data": {
      "text/plain": [
       "(array([  5.,  17.,  51., 111., 137., 112.,  43.,  13.,   6.,   1.]),\n",
       " array([-0.70622021, -0.54855707, -0.39089394, -0.2332308 , -0.07556766,\n",
       "         0.08209548,  0.23975862,  0.39742176,  0.5550849 ,  0.71274804,\n",
       "         0.87041118]),\n",
       " <a list of 10 Patch objects>)"
      ]
     },
     "execution_count": 535,
     "metadata": {},
     "output_type": "execute_result"
    },
    {
     "data": {
      "image/png": "[encoded data removed]",
      "text/plain": [
       "<Figure size 288x288 with 1 Axes>"
      ]
     },
     "metadata": {
      "needs_background": "light"
     },
     "output_type": "display_data"
    }
   ],
   "source": [
    "plt.hist(df_ctrl_sg.log2fold_diff_mean)"
   ]
  },
  {
   "cell_type": "code",
   "execution_count": 536,
   "metadata": {},
   "outputs": [
    {
     "data": {
      "text/plain": [
       "496"
      ]
     },
     "execution_count": 536,
     "metadata": {},
     "output_type": "execute_result"
    }
   ],
   "source": [
    "len((df_ctrl_sg.log2fold_diff_mean))"
   ]
  },
  {
   "cell_type": "code",
   "execution_count": 537,
   "metadata": {},
   "outputs": [
    {
     "data": {
      "text/plain": [
       "-0.14684341168262263"
      ]
     },
     "execution_count": 537,
     "metadata": {},
     "output_type": "execute_result"
    }
   ],
   "source": [
    "np.percentile(df_ctrl_sg.log2fold_diff_mean, 25) "
   ]
  },
  {
   "cell_type": "code",
   "execution_count": 538,
   "metadata": {},
   "outputs": [
    {
     "data": {
      "text/plain": [
       "0.14776801562439792"
      ]
     },
     "execution_count": 538,
     "metadata": {},
     "output_type": "execute_result"
    }
   ],
   "source": [
    "np.percentile(df_ctrl_sg.log2fold_diff_mean, 75) "
   ]
  },
  {
   "cell_type": "code",
   "execution_count": 539,
   "metadata": {},
   "outputs": [],
   "source": [
    "df_ctrl_sg = df_ctrl_sg[df_ctrl_sg.log2fold_diff_mean > np.percentile(df_ctrl_sg.log2fold_diff_mean, 25)*0.85]\n",
    "df_ctrl_sg = df_ctrl_sg[df_ctrl_sg.log2fold_diff_mean < np.percentile(df_ctrl_sg.log2fold_diff_mean, 75)*0.85]"
   ]
  },
  {
   "cell_type": "code",
   "execution_count": 540,
   "metadata": {},
   "outputs": [
    {
     "data": {
      "text/plain": [
       "252"
      ]
     },
     "execution_count": 540,
     "metadata": {},
     "output_type": "execute_result"
    }
   ],
   "source": [
    "len(df_ctrl_sg)"
   ]
  },
  {
   "cell_type": "code",
   "execution_count": 541,
   "metadata": {},
   "outputs": [],
   "source": [
    "files = glob.glob('../../data/screen_summary/screen_log2fold_diffs_sgRNA_differentiation_all_20210826.csv')\n",
    "df_diff_sg_ = pd.read_csv(files[0])\n",
    "df_diff_sg_ = df_diff_sg_[df_diff_sg_.gene.str.contains('CONTROL')]"
   ]
  },
  {
   "cell_type": "code",
   "execution_count": 542,
   "metadata": {},
   "outputs": [
    {
     "data": {
      "text/plain": [
       "(array([ 1.,  1.,  1.,  0.,  1.,  1.,  1.,  4.,  0.,  3.,  4.,  6.,  5.,\n",
       "         1., 13., 12., 12., 11., 17., 23., 24., 17., 19., 19., 23., 32.,\n",
       "        27., 19., 17., 27., 14., 26., 15., 20., 14., 17.,  5.,  8.,  6.,\n",
       "         3.,  5.,  7.,  6.,  3.,  2.,  0.,  2.,  0.,  0.,  2.]),\n",
       " array([-0.26953148, -0.25755701, -0.24558254, -0.23360807, -0.2216336 ,\n",
       "        -0.20965913, -0.19768466, -0.18571018, -0.17373571, -0.16176124,\n",
       "        -0.14978677, -0.1378123 , -0.12583783, -0.11386336, -0.10188889,\n",
       "        -0.08991442, -0.07793995, -0.06596547, -0.053991  , -0.04201653,\n",
       "        -0.03004206, -0.01806759, -0.00609312,  0.00588135,  0.01785582,\n",
       "         0.02983029,  0.04180477,  0.05377924,  0.06575371,  0.07772818,\n",
       "         0.08970265,  0.10167712,  0.11365159,  0.12562606,  0.13760053,\n",
       "         0.14957501,  0.16154948,  0.17352395,  0.18549842,  0.19747289,\n",
       "         0.20944736,  0.22142183,  0.2333963 ,  0.24537077,  0.25734524,\n",
       "         0.26931972,  0.28129419,  0.29326866,  0.30524313,  0.3172176 ,\n",
       "         0.32919207]),\n",
       " <a list of 50 Patch objects>)"
      ]
     },
     "execution_count": 542,
     "metadata": {},
     "output_type": "execute_result"
    },
    {
     "data": {
      "image/png": "[encoded data removed]",
      "text/plain": [
       "<Figure size 288x288 with 1 Axes>"
      ]
     },
     "metadata": {
      "needs_background": "light"
     },
     "output_type": "display_data"
    }
   ],
   "source": [
    "plt.hist(df_diff_sg_.log2fold_diff_mean, bins= 50)"
   ]
  },
  {
   "cell_type": "code",
   "execution_count": 543,
   "metadata": {},
   "outputs": [],
   "source": [
    "df_diff_sg_ = df_diff_sg_[df_diff_sg_.sgRNA.isin(df_ctrl_sg.sgRNA)]"
   ]
  },
  {
   "cell_type": "code",
   "execution_count": 544,
   "metadata": {},
   "outputs": [
    {
     "data": {
      "text/plain": [
       "(array([ 1.,  1.,  1.,  0.,  1.,  0.,  0.,  3.,  0.,  1.,  2.,  4.,  2.,\n",
       "         0.,  4.,  7.,  7.,  7., 10., 12.,  8., 10.,  8., 14., 13., 18.,\n",
       "        17., 10., 11., 10.,  8., 10.,  9.,  7.,  8.,  9.,  3.,  2.,  1.,\n",
       "         0.,  1.,  5.,  2.,  1.,  1.,  0.,  1.,  0.,  0.,  2.]),\n",
       " array([-0.26953148, -0.25755701, -0.24558254, -0.23360807, -0.2216336 ,\n",
       "        -0.20965913, -0.19768466, -0.18571018, -0.17373571, -0.16176124,\n",
       "        -0.14978677, -0.1378123 , -0.12583783, -0.11386336, -0.10188889,\n",
       "        -0.08991442, -0.07793995, -0.06596547, -0.053991  , -0.04201653,\n",
       "        -0.03004206, -0.01806759, -0.00609312,  0.00588135,  0.01785582,\n",
       "         0.02983029,  0.04180477,  0.05377924,  0.06575371,  0.07772818,\n",
       "         0.08970265,  0.10167712,  0.11365159,  0.12562606,  0.13760053,\n",
       "         0.14957501,  0.16154948,  0.17352395,  0.18549842,  0.19747289,\n",
       "         0.20944736,  0.22142183,  0.2333963 ,  0.24537077,  0.25734524,\n",
       "         0.26931972,  0.28129419,  0.29326866,  0.30524313,  0.3172176 ,\n",
       "         0.32919207]),\n",
       " <a list of 50 Patch objects>)"
      ]
     },
     "execution_count": 544,
     "metadata": {},
     "output_type": "execute_result"
    },
    {
     "data": {
      "image/png": "[encoded data removed]",
      "text/plain": [
       "<Figure size 288x288 with 1 Axes>"
      ]
     },
     "metadata": {
      "needs_background": "light"
     },
     "output_type": "display_data"
    }
   ],
   "source": [
    "plt.hist(df_diff_sg_.log2fold_diff_mean, bins=50)"
   ]
  },
  {
   "cell_type": "code",
   "execution_count": 545,
   "metadata": {},
   "outputs": [
    {
     "data": {
      "text/plain": [
       "252"
      ]
     },
     "execution_count": 545,
     "metadata": {},
     "output_type": "execute_result"
    }
   ],
   "source": [
    "len(df_diff_sg_)"
   ]
  },
  {
   "cell_type": "code",
   "execution_count": 546,
   "metadata": {},
   "outputs": [],
   "source": [
    "# df_diff_sg_"
   ]
  },
  {
   "cell_type": "code",
   "execution_count": 547,
   "metadata": {},
   "outputs": [],
   "source": [
    "# overall the distribution  looks similar. I think this suggests that there is no major benefit to select\n",
    "# the 250 sgRNA closest to zero based on the transwell data. But in anycase, I don't have a better way to \n",
    "# narrow down the  number of guides, so lets just use these (279 sgRNA), "
   ]
  },
  {
   "cell_type": "code",
   "execution_count": 548,
   "metadata": {},
   "outputs": [
    {
     "data": {
      "text/plain": [
       "83"
      ]
     },
     "execution_count": 548,
     "metadata": {},
     "output_type": "execute_result"
    }
   ],
   "source": [
    "len('CAGCGCCAATGGGCTTTCGA' + 'CGTCTCACACCG' + 'AAAACATCGACCGAAAGCGT' + 'GTTTCGAGACG' + 'CGACAGGCTCTTAAGCGGCT')"
   ]
  },
  {
   "cell_type": "markdown",
   "metadata": {},
   "source": [
    "# final libraries\n",
    "\n",
    "The last thing I need to do is to add in the control sgRNAs into each of the three libraries"
   ]
  },
  {
   "cell_type": "code",
   "execution_count": 549,
   "metadata": {},
   "outputs": [],
   "source": [
    "# Galvanotaxis; \n",
    "# AGGCACTTGCTCGTACGACG; ATGTGGGCCCGGCACCTTAA (rev complement: TTAAGGTGCCGGGCCCACAT) \n",
    "# 2660 sgRNA + 250 control sgRNA; 1079 genes \n",
    "# 'AGGCACTTGCTCGTACGACG' + 'CGTCTCACACCG' + 20bp sgRNA + 'GTTTCGAGACG' + 'TTAAGGTGCCGGGCCCACAT' \\\n",
    "# ECM; \n",
    "# GTGTAACCCGTAGGGCACCT; GTCGAGAGCAGTCCTTCGAC (rev complement: GTCGAAGGACTGCTCTCGAC) \n",
    "# 1287 sgRNA + 250 control sgRNA, 487 genes \n",
    "# 'GTGTAACCCGTAGGGCACCT' + 'CGTCTCACACCG' + 20bp sgRNA + 'GTTTCGAGACG' + 'GTCGAAGGACTGCTCTCGAC' \\\n",
    "# Differentiation; \n",
    "# CAGCGCCAATGGGCTTTCGA; AGCCGCTTAAGAGCCTGTCG (rev complement: CGACAGGCTCTTAAGCGGCT) \n",
    "# 1271 sgRNA + 250 control sgRNA, 614 genes \n",
    "# 'CAGCGCCAATGGGCTTTCGA' + 'CGTCTCACACCG' + 20bp sgRNA + 'GTTTCGAGACG' + 'CGACAGGCTCTTAAGCGGCT' \\\n",
    "\n",
    "df_galvo_rescreen_ = df_galvo_rescreen_.append(df_ctrl_sg, ignore_index = True)\n",
    "df_ecm_rescreen_ = df_ecm_rescreen_.append(df_ctrl_sg, ignore_index = True)\n",
    "df_diff_rescreen_ = df_diff_rescreen_.append(df_ctrl_sg, ignore_index = True)"
   ]
  },
  {
   "cell_type": "code",
   "execution_count": 550,
   "metadata": {},
   "outputs": [],
   "source": [
    "df_galvo_rescreen_['full_seq'] = 'AGGCACTTGCTCGTACGACG' + 'CGTCTCACACCG' + df_galvo_rescreen_['sgRNA']  + 'GTTTCGAGACG' + 'TTAAGGTGCCGGGCCCACAT'\n",
    "\n",
    "df_ecm_rescreen_['full_seq'] = 'GTGTAACCCGTAGGGCACCT' + 'CGTCTCACACCG' + df_ecm_rescreen_['sgRNA'] + 'GTTTCGAGACG' + 'GTCGAAGGACTGCTCTCGAC' \\\n",
    "\n",
    "df_diff_rescreen_['full_seq'] = 'CAGCGCCAATGGGCTTTCGA' + 'CGTCTCACACCG' + df_diff_rescreen_['sgRNA'] + 'GTTTCGAGACG' + 'CGACAGGCTCTTAAGCGGCT'\n"
   ]
  },
  {
   "cell_type": "code",
   "execution_count": 551,
   "metadata": {},
   "outputs": [],
   "source": [
    "df_galvo_rescreen_['screen'] = 'galvanotaxis'\n",
    "df_ecm_rescreen_['screen'] = 'ECM'\n",
    "df_diff_rescreen_['screen'] = 'differentiation'\n"
   ]
  },
  {
   "cell_type": "code",
   "execution_count": 552,
   "metadata": {},
   "outputs": [],
   "source": [
    "df_rescreen_combined = df_galvo_rescreen_.copy()\n",
    "df_rescreen_combined = df_rescreen_combined.append(df_ecm_rescreen_, ignore_index = True)\n",
    "df_rescreen_combined = df_rescreen_combined.append(df_diff_rescreen_, ignore_index = True)"
   ]
  },
  {
   "cell_type": "code",
   "execution_count": 553,
   "metadata": {},
   "outputs": [
    {
     "data": {
      "text/html": [
       "<div>\n",
       "<style scoped>\n",
       "    .dataframe tbody tr th:only-of-type {\n",
       "        vertical-align: middle;\n",
       "    }\n",
       "\n",
       "    .dataframe tbody tr th {\n",
       "        vertical-align: top;\n",
       "    }\n",
       "\n",
       "    .dataframe thead th {\n",
       "        text-align: right;\n",
       "    }\n",
       "</style>\n",
       "<table border=\"1\" class=\"dataframe\">\n",
       "  <thead>\n",
       "    <tr style=\"text-align: right;\">\n",
       "      <th></th>\n",
       "      <th>gene</th>\n",
       "      <th>sgRNA</th>\n",
       "      <th>log2fold_diff_mean</th>\n",
       "      <th>Unnamed: 0</th>\n",
       "      <th>full_seq</th>\n",
       "      <th>screen</th>\n",
       "    </tr>\n",
       "  </thead>\n",
       "  <tbody>\n",
       "    <tr>\n",
       "      <th>0</th>\n",
       "      <td>A1CF</td>\n",
       "      <td>CTCTGTGAAACTGTGTATTG</td>\n",
       "      <td>NaN</td>\n",
       "      <td>NaN</td>\n",
       "      <td>AGGCACTTGCTCGTACGACGCGTCTCACACCGCTCTGTGAAACTGT...</td>\n",
       "      <td>galvanotaxis</td>\n",
       "    </tr>\n",
       "    <tr>\n",
       "      <th>1</th>\n",
       "      <td>A1CF</td>\n",
       "      <td>GGGGATCTCTGAAATTACTC</td>\n",
       "      <td>NaN</td>\n",
       "      <td>NaN</td>\n",
       "      <td>AGGCACTTGCTCGTACGACGCGTCTCACACCGGGGGATCTCTGAAA...</td>\n",
       "      <td>galvanotaxis</td>\n",
       "    </tr>\n",
       "    <tr>\n",
       "      <th>2</th>\n",
       "      <td>A1CF</td>\n",
       "      <td>CGTTGAATTCGCCATAATCA</td>\n",
       "      <td>NaN</td>\n",
       "      <td>NaN</td>\n",
       "      <td>AGGCACTTGCTCGTACGACGCGTCTCACACCGCGTTGAATTCGCCA...</td>\n",
       "      <td>galvanotaxis</td>\n",
       "    </tr>\n",
       "    <tr>\n",
       "      <th>3</th>\n",
       "      <td>AARS</td>\n",
       "      <td>CCCTCAGAGTCCCCCGCCAA</td>\n",
       "      <td>NaN</td>\n",
       "      <td>NaN</td>\n",
       "      <td>AGGCACTTGCTCGTACGACGCGTCTCACACCGCCCTCAGAGTCCCC...</td>\n",
       "      <td>galvanotaxis</td>\n",
       "    </tr>\n",
       "    <tr>\n",
       "      <th>4</th>\n",
       "      <td>AARS</td>\n",
       "      <td>CCCTTGGCGGGGGACTCTGA</td>\n",
       "      <td>NaN</td>\n",
       "      <td>NaN</td>\n",
       "      <td>AGGCACTTGCTCGTACGACGCGTCTCACACCGCCCTTGGCGGGGGA...</td>\n",
       "      <td>galvanotaxis</td>\n",
       "    </tr>\n",
       "  </tbody>\n",
       "</table>\n",
       "</div>"
      ],
      "text/plain": [
       "   gene                 sgRNA  log2fold_diff_mean  Unnamed: 0  \\\n",
       "0  A1CF  CTCTGTGAAACTGTGTATTG                 NaN         NaN   \n",
       "1  A1CF  GGGGATCTCTGAAATTACTC                 NaN         NaN   \n",
       "2  A1CF  CGTTGAATTCGCCATAATCA                 NaN         NaN   \n",
       "3  AARS  CCCTCAGAGTCCCCCGCCAA                 NaN         NaN   \n",
       "4  AARS  CCCTTGGCGGGGGACTCTGA                 NaN         NaN   \n",
       "\n",
       "                                            full_seq        screen  \n",
       "0  AGGCACTTGCTCGTACGACGCGTCTCACACCGCTCTGTGAAACTGT...  galvanotaxis  \n",
       "1  AGGCACTTGCTCGTACGACGCGTCTCACACCGGGGGATCTCTGAAA...  galvanotaxis  \n",
       "2  AGGCACTTGCTCGTACGACGCGTCTCACACCGCGTTGAATTCGCCA...  galvanotaxis  \n",
       "3  AGGCACTTGCTCGTACGACGCGTCTCACACCGCCCTCAGAGTCCCC...  galvanotaxis  \n",
       "4  AGGCACTTGCTCGTACGACGCGTCTCACACCGCCCTTGGCGGGGGA...  galvanotaxis  "
      ]
     },
     "execution_count": 553,
     "metadata": {},
     "output_type": "execute_result"
    }
   ],
   "source": [
    "df_rescreen_combined.head()"
   ]
  },
  {
   "cell_type": "markdown",
   "metadata": {},
   "source": [
    "I need to give each an ID number. Lets give a unique number to all sgRNA in the DataFrame."
   ]
  },
  {
   "cell_type": "code",
   "execution_count": 554,
   "metadata": {},
   "outputs": [],
   "source": [
    "dict_ID = dict(zip(df_rescreen_combined.sgRNA.unique(), 1+ np.arange(len(df_rescreen_combined.sgRNA.unique()))))"
   ]
  },
  {
   "cell_type": "code",
   "execution_count": 555,
   "metadata": {},
   "outputs": [],
   "source": [
    "df_rescreen_combined['gene_ID'] = df_rescreen_combined['sgRNA'].values\n",
    "\n",
    "df_rescreen_combined = df_rescreen_combined.replace({\"gene_ID\": dict_ID})"
   ]
  },
  {
   "cell_type": "code",
   "execution_count": 556,
   "metadata": {},
   "outputs": [],
   "source": [
    "# df_rescreen_combined['geneName'] = df_rescreen_combined['gene'].values + '_' + str(df_rescreen_combined['gene_ID'].values)"
   ]
  },
  {
   "cell_type": "code",
   "execution_count": 557,
   "metadata": {},
   "outputs": [],
   "source": [
    "df_rescreen_combined['geneName'] = df_rescreen_combined.agg('{0[gene]}_{0[gene_ID]}'.format, axis=1)"
   ]
  },
  {
   "cell_type": "code",
   "execution_count": 558,
   "metadata": {},
   "outputs": [],
   "source": [
    "df_rescreen_combined.to_csv('../../data/rescreen_design/20211027_galvo_ecm_diff_alldetails.csv', index=False)"
   ]
  },
  {
   "cell_type": "code",
   "execution_count": 559,
   "metadata": {},
   "outputs": [],
   "source": [
    "df_rescreen_combined_tocsv = df_rescreen_combined[['geneName', 'full_seq']]\n",
    "df_rescreen_combined_tocsv.to_csv('../../data/rescreen_design/20211027_galvo_ecm_diff.csv', index=False)\n"
   ]
  },
  {
   "cell_type": "code",
   "execution_count": 560,
   "metadata": {},
   "outputs": [
    {
     "data": {
      "text/plain": [
       "'GTGTAACCCGTAGGGCACCTCGTCTCACACCGCACAGGCCCCCAGGACCCCTGTTTCGAGACGGTCGAAGGACTGCTCTCGAC'"
      ]
     },
     "execution_count": 560,
     "metadata": {},
     "output_type": "execute_result"
    }
   ],
   "source": [
    "df_rescreen_combined_tocsv.iloc[-5000].full_seq"
   ]
  },
  {
   "cell_type": "code",
   "execution_count": 561,
   "metadata": {},
   "outputs": [
    {
     "data": {
      "text/plain": [
       "9186"
      ]
     },
     "execution_count": 561,
     "metadata": {},
     "output_type": "execute_result"
    }
   ],
   "source": [
    "len(df_rescreen_combined_tocsv)"
   ]
  },
  {
   "cell_type": "code",
   "execution_count": 828,
   "metadata": {},
   "outputs": [
    {
     "data": {
      "text/plain": [
       "7296"
      ]
     },
     "execution_count": 828,
     "metadata": {},
     "output_type": "execute_result"
    }
   ],
   "source": [
    "# if I include 3 sgRNA per gene\n",
    "252*3 +  1079*3 + 487*3 + 614*3"
   ]
  },
  {
   "cell_type": "code",
   "execution_count": 406,
   "metadata": {},
   "outputs": [
    {
     "data": {
      "text/plain": [
       "756"
      ]
     },
     "execution_count": 406,
     "metadata": {},
     "output_type": "execute_result"
    }
   ],
   "source": [
    "len(df_rescreen_combined_tocsv[df_rescreen_combined_tocsv.geneName.str.contains('CONTROL')])"
   ]
  },
  {
   "cell_type": "code",
   "execution_count": 416,
   "metadata": {},
   "outputs": [
    {
     "data": {
      "text/html": [
       "<div>\n",
       "<style scoped>\n",
       "    .dataframe tbody tr th:only-of-type {\n",
       "        vertical-align: middle;\n",
       "    }\n",
       "\n",
       "    .dataframe tbody tr th {\n",
       "        vertical-align: top;\n",
       "    }\n",
       "\n",
       "    .dataframe thead th {\n",
       "        text-align: right;\n",
       "    }\n",
       "</style>\n",
       "<table border=\"1\" class=\"dataframe\">\n",
       "  <thead>\n",
       "    <tr style=\"text-align: right;\">\n",
       "      <th></th>\n",
       "      <th>gene</th>\n",
       "      <th>sgRNA</th>\n",
       "      <th>log2fold_diff_mean</th>\n",
       "      <th>Unnamed: 0</th>\n",
       "      <th>full_seq</th>\n",
       "      <th>screen</th>\n",
       "      <th>gene_ID</th>\n",
       "      <th>geneName</th>\n",
       "    </tr>\n",
       "  </thead>\n",
       "  <tbody>\n",
       "    <tr>\n",
       "      <th>1993</th>\n",
       "      <td>PIK3CG</td>\n",
       "      <td>AATACCTGATAAAGCAGCGG</td>\n",
       "      <td>NaN</td>\n",
       "      <td>NaN</td>\n",
       "      <td>AGGCACTTGCTCGTACGACGCGTCTCACACCGAATACCTGATAAAG...</td>\n",
       "      <td>galvanotaxis</td>\n",
       "      <td>1994</td>\n",
       "      <td>PIK3CG_1994</td>\n",
       "    </tr>\n",
       "    <tr>\n",
       "      <th>1994</th>\n",
       "      <td>PIK3CG</td>\n",
       "      <td>GAAGAATTTAGACGCACACT</td>\n",
       "      <td>NaN</td>\n",
       "      <td>NaN</td>\n",
       "      <td>AGGCACTTGCTCGTACGACGCGTCTCACACCGGAAGAATTTAGACG...</td>\n",
       "      <td>galvanotaxis</td>\n",
       "      <td>1995</td>\n",
       "      <td>PIK3CG_1995</td>\n",
       "    </tr>\n",
       "    <tr>\n",
       "      <th>1995</th>\n",
       "      <td>PIK3CG</td>\n",
       "      <td>AATTTAGACGCACACTGGGT</td>\n",
       "      <td>NaN</td>\n",
       "      <td>NaN</td>\n",
       "      <td>AGGCACTTGCTCGTACGACGCGTCTCACACCGAATTTAGACGCACA...</td>\n",
       "      <td>galvanotaxis</td>\n",
       "      <td>1996</td>\n",
       "      <td>PIK3CG_1996</td>\n",
       "    </tr>\n",
       "    <tr>\n",
       "      <th>5422</th>\n",
       "      <td>PIK3CG</td>\n",
       "      <td>AATACCTGATAAAGCAGCGG</td>\n",
       "      <td>NaN</td>\n",
       "      <td>NaN</td>\n",
       "      <td>GTGTAACCCGTAGGGCACCTCGTCTCACACCGAATACCTGATAAAG...</td>\n",
       "      <td>ECM</td>\n",
       "      <td>1994</td>\n",
       "      <td>PIK3CG_1994</td>\n",
       "    </tr>\n",
       "    <tr>\n",
       "      <th>5423</th>\n",
       "      <td>PIK3CG</td>\n",
       "      <td>GAAGAATTTAGACGCACACT</td>\n",
       "      <td>NaN</td>\n",
       "      <td>NaN</td>\n",
       "      <td>GTGTAACCCGTAGGGCACCTCGTCTCACACCGGAAGAATTTAGACG...</td>\n",
       "      <td>ECM</td>\n",
       "      <td>1995</td>\n",
       "      <td>PIK3CG_1995</td>\n",
       "    </tr>\n",
       "    <tr>\n",
       "      <th>5424</th>\n",
       "      <td>PIK3CG</td>\n",
       "      <td>AGCAATACCTGATAAAGCAG</td>\n",
       "      <td>NaN</td>\n",
       "      <td>NaN</td>\n",
       "      <td>GTGTAACCCGTAGGGCACCTCGTCTCACACCGAGCAATACCTGATA...</td>\n",
       "      <td>ECM</td>\n",
       "      <td>5129</td>\n",
       "      <td>PIK3CG_5129</td>\n",
       "    </tr>\n",
       "  </tbody>\n",
       "</table>\n",
       "</div>"
      ],
      "text/plain": [
       "        gene                 sgRNA  log2fold_diff_mean  Unnamed: 0  \\\n",
       "1993  PIK3CG  AATACCTGATAAAGCAGCGG                 NaN         NaN   \n",
       "1994  PIK3CG  GAAGAATTTAGACGCACACT                 NaN         NaN   \n",
       "1995  PIK3CG  AATTTAGACGCACACTGGGT                 NaN         NaN   \n",
       "5422  PIK3CG  AATACCTGATAAAGCAGCGG                 NaN         NaN   \n",
       "5423  PIK3CG  GAAGAATTTAGACGCACACT                 NaN         NaN   \n",
       "5424  PIK3CG  AGCAATACCTGATAAAGCAG                 NaN         NaN   \n",
       "\n",
       "                                               full_seq        screen  \\\n",
       "1993  AGGCACTTGCTCGTACGACGCGTCTCACACCGAATACCTGATAAAG...  galvanotaxis   \n",
       "1994  AGGCACTTGCTCGTACGACGCGTCTCACACCGGAAGAATTTAGACG...  galvanotaxis   \n",
       "1995  AGGCACTTGCTCGTACGACGCGTCTCACACCGAATTTAGACGCACA...  galvanotaxis   \n",
       "5422  GTGTAACCCGTAGGGCACCTCGTCTCACACCGAATACCTGATAAAG...           ECM   \n",
       "5423  GTGTAACCCGTAGGGCACCTCGTCTCACACCGGAAGAATTTAGACG...           ECM   \n",
       "5424  GTGTAACCCGTAGGGCACCTCGTCTCACACCGAGCAATACCTGATA...           ECM   \n",
       "\n",
       "      gene_ID     geneName  \n",
       "1993     1994  PIK3CG_1994  \n",
       "1994     1995  PIK3CG_1995  \n",
       "1995     1996  PIK3CG_1996  \n",
       "5422     1994  PIK3CG_1994  \n",
       "5423     1995  PIK3CG_1995  \n",
       "5424     5129  PIK3CG_5129  "
      ]
     },
     "execution_count": 416,
     "metadata": {},
     "output_type": "execute_result"
    }
   ],
   "source": [
    "df_rescreen_combined[df_rescreen_combined.gene == 'PIK3CG']"
   ]
  },
  {
   "cell_type": "code",
   "execution_count": 562,
   "metadata": {},
   "outputs": [
    {
     "data": {
      "text/html": [
       "<div>\n",
       "<style scoped>\n",
       "    .dataframe tbody tr th:only-of-type {\n",
       "        vertical-align: middle;\n",
       "    }\n",
       "\n",
       "    .dataframe tbody tr th {\n",
       "        vertical-align: top;\n",
       "    }\n",
       "\n",
       "    .dataframe thead th {\n",
       "        text-align: right;\n",
       "    }\n",
       "</style>\n",
       "<table border=\"1\" class=\"dataframe\">\n",
       "  <thead>\n",
       "    <tr style=\"text-align: right;\">\n",
       "      <th></th>\n",
       "      <th>gene</th>\n",
       "      <th>sgRNA</th>\n",
       "      <th>log2fold_diff_mean</th>\n",
       "      <th>Unnamed: 0</th>\n",
       "      <th>full_seq</th>\n",
       "      <th>screen</th>\n",
       "      <th>gene_ID</th>\n",
       "      <th>geneName</th>\n",
       "    </tr>\n",
       "  </thead>\n",
       "  <tbody>\n",
       "    <tr>\n",
       "      <th>3577</th>\n",
       "      <td>APBB1IP</td>\n",
       "      <td>CCTTAGTCCCTCTTGCGTCG</td>\n",
       "      <td>NaN</td>\n",
       "      <td>NaN</td>\n",
       "      <td>GTGTAACCCGTAGGGCACCTCGTCTCACACCGCCTTAGTCCCTCTT...</td>\n",
       "      <td>ECM</td>\n",
       "      <td>3559</td>\n",
       "      <td>APBB1IP_3559</td>\n",
       "    </tr>\n",
       "    <tr>\n",
       "      <th>3578</th>\n",
       "      <td>APBB1IP</td>\n",
       "      <td>CTCGACGCAAGAGGGACTAA</td>\n",
       "      <td>NaN</td>\n",
       "      <td>NaN</td>\n",
       "      <td>GTGTAACCCGTAGGGCACCTCGTCTCACACCGCTCGACGCAAGAGG...</td>\n",
       "      <td>ECM</td>\n",
       "      <td>3560</td>\n",
       "      <td>APBB1IP_3560</td>\n",
       "    </tr>\n",
       "    <tr>\n",
       "      <th>3579</th>\n",
       "      <td>APBB1IP</td>\n",
       "      <td>CTTGCGTCGAGGCTGCAAAA</td>\n",
       "      <td>NaN</td>\n",
       "      <td>NaN</td>\n",
       "      <td>GTGTAACCCGTAGGGCACCTCGTCTCACACCGCTTGCGTCGAGGCT...</td>\n",
       "      <td>ECM</td>\n",
       "      <td>3561</td>\n",
       "      <td>APBB1IP_3561</td>\n",
       "    </tr>\n",
       "  </tbody>\n",
       "</table>\n",
       "</div>"
      ],
      "text/plain": [
       "         gene                 sgRNA  log2fold_diff_mean  Unnamed: 0  \\\n",
       "3577  APBB1IP  CCTTAGTCCCTCTTGCGTCG                 NaN         NaN   \n",
       "3578  APBB1IP  CTCGACGCAAGAGGGACTAA                 NaN         NaN   \n",
       "3579  APBB1IP  CTTGCGTCGAGGCTGCAAAA                 NaN         NaN   \n",
       "\n",
       "                                               full_seq screen  gene_ID  \\\n",
       "3577  GTGTAACCCGTAGGGCACCTCGTCTCACACCGCCTTAGTCCCTCTT...    ECM     3559   \n",
       "3578  GTGTAACCCGTAGGGCACCTCGTCTCACACCGCTCGACGCAAGAGG...    ECM     3560   \n",
       "3579  GTGTAACCCGTAGGGCACCTCGTCTCACACCGCTTGCGTCGAGGCT...    ECM     3561   \n",
       "\n",
       "          geneName  \n",
       "3577  APBB1IP_3559  \n",
       "3578  APBB1IP_3560  \n",
       "3579  APBB1IP_3561  "
      ]
     },
     "execution_count": 562,
     "metadata": {},
     "output_type": "execute_result"
    }
   ],
   "source": [
    "df_rescreen_combined[df_rescreen_combined.gene == 'APBB1IP']#.full_seq.values[0]"
   ]
  },
  {
   "cell_type": "code",
   "execution_count": 563,
   "metadata": {},
   "outputs": [
    {
     "data": {
      "text/html": [
       "<div>\n",
       "<style scoped>\n",
       "    .dataframe tbody tr th:only-of-type {\n",
       "        vertical-align: middle;\n",
       "    }\n",
       "\n",
       "    .dataframe tbody tr th {\n",
       "        vertical-align: top;\n",
       "    }\n",
       "\n",
       "    .dataframe thead th {\n",
       "        text-align: right;\n",
       "    }\n",
       "</style>\n",
       "<table border=\"1\" class=\"dataframe\">\n",
       "  <thead>\n",
       "    <tr style=\"text-align: right;\">\n",
       "      <th></th>\n",
       "      <th>Unnamed: 0</th>\n",
       "      <th>gene</th>\n",
       "      <th>sgRNA</th>\n",
       "      <th>log2fold_diff_mean</th>\n",
       "    </tr>\n",
       "  </thead>\n",
       "  <tbody>\n",
       "    <tr>\n",
       "      <th>19557</th>\n",
       "      <td>19557</td>\n",
       "      <td>APBB1IP</td>\n",
       "      <td>CCTTAGTCCCTCTTGCGTCG</td>\n",
       "      <td>-1.589116</td>\n",
       "    </tr>\n",
       "    <tr>\n",
       "      <th>31486</th>\n",
       "      <td>31486</td>\n",
       "      <td>APBB1IP</td>\n",
       "      <td>GCAAAATGGTTCCATTCGCC</td>\n",
       "      <td>0.051401</td>\n",
       "    </tr>\n",
       "    <tr>\n",
       "      <th>56943</th>\n",
       "      <td>56943</td>\n",
       "      <td>APBB1IP</td>\n",
       "      <td>TTTGCAGCCTCGACGCAAGA</td>\n",
       "      <td>-0.142675</td>\n",
       "    </tr>\n",
       "  </tbody>\n",
       "</table>\n",
       "</div>"
      ],
      "text/plain": [
       "       Unnamed: 0     gene                 sgRNA  log2fold_diff_mean\n",
       "19557       19557  APBB1IP  CCTTAGTCCCTCTTGCGTCG           -1.589116\n",
       "31486       31486  APBB1IP  GCAAAATGGTTCCATTCGCC            0.051401\n",
       "56943       56943  APBB1IP  TTTGCAGCCTCGACGCAAGA           -0.142675"
      ]
     },
     "execution_count": 563,
     "metadata": {},
     "output_type": "execute_result"
    }
   ],
   "source": [
    "df_ecm_sg[df_ecm_sg.gene == 'APBB1IP']"
   ]
  },
  {
   "cell_type": "code",
   "execution_count": 574,
   "metadata": {},
   "outputs": [
    {
     "data": {
      "text/plain": [
       "3457"
      ]
     },
     "execution_count": 574,
     "metadata": {},
     "output_type": "execute_result"
    }
   ],
   "source": [
    "len(df_rescreen_combined[df_rescreen_combined.screen == 'galvanotaxis'])"
   ]
  },
  {
   "cell_type": "code",
   "execution_count": 569,
   "metadata": {},
   "outputs": [
    {
     "data": {
      "text/plain": [
       "756"
      ]
     },
     "execution_count": 569,
     "metadata": {},
     "output_type": "execute_result"
    }
   ],
   "source": [
    "len(df_rescreen_combined[df_rescreen_combined.geneName.str.contains('CONTROL')])"
   ]
  },
  {
   "cell_type": "code",
   "execution_count": 573,
   "metadata": {},
   "outputs": [
    {
     "data": {
      "text/plain": [
       "3462"
      ]
     },
     "execution_count": 573,
     "metadata": {},
     "output_type": "execute_result"
    }
   ],
   "source": [
    "1070*3+252"
   ]
  },
  {
   "cell_type": "markdown",
   "metadata": {},
   "source": [
    "## check some numbers for paper"
   ]
  },
  {
   "cell_type": "code",
   "execution_count": 6,
   "metadata": {},
   "outputs": [],
   "source": [
    "df_temp = pd.read_csv('../../data/screen_libraries/20211027_galvo_ecm_diff_alldetails.csv')#, index=False)\n",
    "df_temp = df_temp[df_temp.screen == 'galvanotaxis']"
   ]
  },
  {
   "cell_type": "code",
   "execution_count": 9,
   "metadata": {},
   "outputs": [
    {
     "data": {
      "text/plain": [
       "1070"
      ]
     },
     "execution_count": 9,
     "metadata": {},
     "output_type": "execute_result"
    }
   ],
   "source": [
    "len(df_temp.gene.unique())"
   ]
  },
  {
   "cell_type": "code",
   "execution_count": null,
   "metadata": {},
   "outputs": [],
   "source": []
  }
 ],
 "metadata": {
  "kernelspec": {
   "display_name": "Python 3 (ipykernel)",
   "language": "python",
   "name": "python3"
  },
  "language_info": {
   "codemirror_mode": {
    "name": "ipython",
    "version": 3
   },
   "file_extension": ".py",
   "mimetype": "text/x-python",
   "name": "python",
   "nbconvert_exporter": "python",
   "pygments_lexer": "ipython3",
   "version": "3.9.13"
  }
 },
 "nbformat": 4,
 "nbformat_minor": 4
}
