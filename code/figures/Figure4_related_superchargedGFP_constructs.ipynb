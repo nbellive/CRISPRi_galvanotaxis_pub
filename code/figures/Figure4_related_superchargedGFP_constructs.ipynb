{
 "cells": [
  {
   "cell_type": "code",
   "execution_count": 19,
   "id": "8e764c10-1d34-49f6-8a3b-82d4fc35a21c",
   "metadata": {},
   "outputs": [],
   "source": [
    "import numpy as np\n",
    "import pandas as pd\n",
    "import matplotlib.pyplot as plt\n",
    "plt.style.use('styleNB.mplstyle')"
   ]
  },
  {
   "cell_type": "code",
   "execution_count": 4,
   "id": "d341246d-7e43-492f-b5e8-ff0324093d74",
   "metadata": {},
   "outputs": [],
   "source": [
    "# load the new construct data\n",
    "df_filtered = pd.read_csv('../../data/processed_3D_tracking/20240607_compiled_galvaninKOlines_charged-eGFPtracking.csv')\n",
    "\n",
    "# Include the rescue data\n",
    "f_rescue_filtered = '../../data/processed_3D_tracking/20240424_compiled_galvaninKOlines_rescue_tracking_GFPplus.csv'\n",
    "df_gfp = pd.read_csv(f_rescue_filtered)\n",
    "df_gfp = df_gfp[['cell', 'frame', 'x', 'y', 'z',\n",
    "       'celltype', 'E_V_cm', 'date', 'trial', 'user']]\n",
    "\n",
    "df_concat = pd.concat([df_filtered, df_gfp], ignore_index = True)\n",
    "\n",
    "# remove cells at the periphery\n",
    "df_concat_ = pd.DataFrame()\n",
    "for g, d_ in df_concat.groupby(['celltype', 'E_V_cm', 'date', 'trial', 'user', 'cell']):\n",
    "    if np.any(d_.z > 290):\n",
    "        continue\n",
    "    elif np.any(d_.z < 10):\n",
    "        continue\n",
    "    \n",
    "    # Append the row to the DataFrame using concat\n",
    "    df_concat_ = pd.concat([df_concat_, d_], ignore_index=True)"
   ]
  },
  {
   "cell_type": "code",
   "execution_count": 9,
   "id": "298d5568-4c2f-4296-9922-9bffa6bb3732",
   "metadata": {},
   "outputs": [],
   "source": [
    "\n",
    "def non_overlapping_normalized_autocorrelation(signal):\n",
    "    \"\"\"\n",
    "    Calculate the non-overlapping normalized autocorrelation of a 1D signal.\n",
    "    \n",
    "    Parameters:\n",
    "    signal (np.ndarray): Input 1D signal.\n",
    "    \n",
    "    Returns:\n",
    "    np.ndarray: Non-overlapping normalized autocorrelation values.\n",
    "    \"\"\"\n",
    "    n = len(signal)\n",
    "    autocorrelation = np.zeros(n)\n",
    "    \n",
    "    for lag in range(n):\n",
    "        sum_product = 0\n",
    "        count = 0\n",
    "        for i in range(0, n - lag, lag + 1):\n",
    "            sum_product += signal[i] * signal[i + lag]\n",
    "            count += 1\n",
    "        \n",
    "        if count > 0:\n",
    "            # Normalizing with respect to the sum of squares for lag 0\n",
    "            normalization_factor = np.sqrt(np.sum(signal[:n - lag:lag + 1] ** 2) * np.sum(signal[lag:n:lag + 1] ** 2))\n",
    "            autocorrelation[lag] = sum_product / normalization_factor if normalization_factor != 0 else 0\n",
    "    \n",
    "    return autocorrelation\n",
    "\n",
    "\n",
    "###############################\n",
    "# directionality calculation\n",
    "# https://stackoverflow.com/questions/2827393/angles-between-two-n-dimensional-vectors-in-python\n",
    "###############################\n",
    "def unit_vector(vector):\n",
    "    \"\"\" Returns the unit vector of the vector.  \"\"\"\n",
    "    return vector / np.linalg.norm(vector)\n",
    "\n",
    "def angle_between(v1, v2):\n",
    "    \"\"\" Returns the angle in radians between vectors 'v1' and 'v2'::\n",
    "\n",
    "            >>> angle_between((1, 0, 0), (0, 1, 0))\n",
    "            1.5707963267948966\n",
    "            >>> angle_between((1, 0, 0), (1, 0, 0))\n",
    "            0.0\n",
    "            >>> angle_between((1, 0, 0), (-1, 0, 0))\n",
    "            3.141592653589793\n",
    "    \"\"\"\n",
    "    v1_u = unit_vector(v1)\n",
    "    v2_u = unit_vector(v2)\n",
    "    return np.arccos(np.clip(np.dot(v1_u, v2_u), -1.0, 1.0)) "
   ]
  },
  {
   "cell_type": "code",
   "execution_count": null,
   "id": "94105137-e35e-4717-b1d6-93ed9d669de4",
   "metadata": {},
   "outputs": [],
   "source": []
  },
  {
   "cell_type": "code",
   "execution_count": null,
   "id": "258c4721-d86b-4949-83f7-931cf57183d0",
   "metadata": {},
   "outputs": [],
   "source": []
  },
  {
   "cell_type": "code",
   "execution_count": 5,
   "id": "37696fa1-63df-48ea-b961-cf9e73ff33a0",
   "metadata": {},
   "outputs": [
    {
     "data": {
      "text/plain": [
       "array(['dHL60TMEM154KO-clone1+9GFP-galvanin-HA',\n",
       "       'dHL60TMEM154KO-clone1-30GFP-galvanin-HA',\n",
       "       'dHL60TMEM154KO-clone1galvanin-GFP-HA'], dtype=object)"
      ]
     },
     "execution_count": 5,
     "metadata": {},
     "output_type": "execute_result"
    }
   ],
   "source": []
  },
  {
   "cell_type": "code",
   "execution_count": 16,
   "id": "2500cf4c-6150-43c4-a5be-4f42fee4a93d",
   "metadata": {},
   "outputs": [
    {
     "name": "stderr",
     "output_type": "stream",
     "text": [
      "/var/folders/hs/8f67z23n6g9g9g4y03yhrn_c0000gn/T/ipykernel_6663/3644168872.py:36: RuntimeWarning: invalid value encountered in true_divide\n",
      "  return vector / np.linalg.norm(vector)\n",
      "/var/folders/hs/8f67z23n6g9g9g4y03yhrn_c0000gn/T/ipykernel_6663/3644168872.py:36: RuntimeWarning: invalid value encountered in true_divide\n",
      "  return vector / np.linalg.norm(vector)\n"
     ]
    }
   ],
   "source": [
    "\n",
    "df_angle_E_3_ = pd.DataFrame()\n",
    "\n",
    "for g, d_ in df_concat_.groupby(['celltype', 'E_V_cm', 'date', 'trial', 'user', 'cell']):\n",
    "\n",
    "    if len(np.arange(d_.frame.min(), d_.frame.max())) + 1 != len(d_.frame.unique()):\n",
    "        continue\n",
    "    else:\n",
    "        # Iterate over frames with a step size of 3\n",
    "        for t in np.arange(d_.frame.min() + 3, d_.frame.max() + 1, 3):\n",
    "            if (t - 3) < d_.frame.min():  # Ensure there's enough data for the intervals\n",
    "                continue\n",
    "            \n",
    "            vec_t1 = [d_[d_.frame == t-3].x.values[0] - d_[d_.frame == t].x.values[0],\n",
    "                      d_[d_.frame == t-3].y.values[0] - d_[d_.frame == t].y.values[0]]\n",
    "            vec_t2 = [3, 0]  # reference vector (magnitude not important)\n",
    "\n",
    "            datalist = {'celltype': g[0],\n",
    "                        'E_V_cm': g[1],\n",
    "                        'date': g[2],\n",
    "                        'trial': g[3],\n",
    "                        'user': g[4],\n",
    "                        'cell': g[5],\n",
    "                        'interval': t,\n",
    "                        'angle': angle_between(vec_t2, vec_t1),\n",
    "                        'cos_angle': np.cos(angle_between(vec_t2, vec_t1))}\n",
    "            df_dict = pd.DataFrame([datalist])\n",
    "            df_angle_E_3_ = pd.concat([df_angle_E_3_, df_dict], ignore_index=True)"
   ]
  },
  {
   "cell_type": "code",
   "execution_count": 17,
   "id": "01d74988-72d2-4ed1-bd06-2da4b4781395",
   "metadata": {},
   "outputs": [],
   "source": [
    "color_dict = {'dHL60KW': '#B8BABC',\n",
    "              'dHL60TMEM154KO': (1.0, 0.4980392156862745, 0.054901960784313725),\n",
    "              'dHL60TMEM154KO-clone1galvanin-GFP-HA': (0.17254901960784313,  0.6274509803921569, 0.17254901960784313),\n",
    "             'dHL60TMEM154KO-clone1+9GFP-galvanin-HA': (0.12156862745098039,0.4666666666666667, 0.7058823529411765),\n",
    "             'dHL60TMEM154KO-clone1-30GFP-galvanin-HA': 'k'}"
   ]
  },
  {
   "cell_type": "code",
   "execution_count": 25,
   "id": "73c819b7-e5bd-4572-b73b-929b7e70c443",
   "metadata": {},
   "outputs": [
    {
     "name": "stdout",
     "output_type": "stream",
     "text": [
      "dHL60TMEM154KO-clone1+9GFP-galvanin-HA\n",
      "dHL60TMEM154KO-clone1-30GFP-galvanin-HA\n",
      "dHL60TMEM154KO-clone1galvanin-GFP-HA\n"
     ]
    },
    {
     "data": {
      "text/plain": [
       "Text(0, 0.5, 'directional\\nautocorrelation\\n(6 min. time lag)')"
      ]
     },
     "execution_count": 25,
     "metadata": {},
     "output_type": "execute_result"
    },
    {
     "data": {
      "image/png": "[encoded data removed]",
      "text/plain": [
       "<Figure size 300x200 with 1 Axes>"
      ]
     },
     "metadata": {},
     "output_type": "display_data"
    }
   ],
   "source": [
    "df_acf = pd.DataFrame()\n",
    "\n",
    "for g, d in df_angle_E_3_.groupby(['celltype', 'E_V_cm']):\n",
    "    \n",
    "    acf_all = np.zeros(8)\n",
    "    for g_, d_ in d.groupby(['date', 'trial', 'user', 'cell']):\n",
    "        d_ = d_.sort_values('interval')\n",
    "        y = d_.cos_angle.values\n",
    "\n",
    "        # need each array to be same length (take only full length \n",
    "        # tracks, or ones missing an interval)\n",
    "        if len(y) > 8:\n",
    "            y = y[:8]\n",
    "        if len(y) != 8:\n",
    "            continue\n",
    "            \n",
    "        acf = [1] #initializing list with autocorrelation coefficient for lag k=0 which is always 1\n",
    "        acf = non_overlapping_normalized_autocorrelation(y) #calling autocorr function for each lag 'i'\n",
    "\n",
    "        acf_all = np.vstack([acf_all, acf])\n",
    "\n",
    "    data_list = {'celltype': g[0],\n",
    "                 'E_V_cm' : g[1],\n",
    "                'autocorr_0' : acf_all[:,0],\n",
    "                'autocorr_1' : acf_all[:,1],\n",
    "                'autocorr_2' : acf_all[:,2],\n",
    "                'autocorr_3' : acf_all[:,3],\n",
    "                'autocorr_4' : acf_all[:,4],\n",
    "                'autocorr_5' : acf_all[:,5]}\n",
    "    \n",
    "    df_dict = pd.DataFrame([data_list])\n",
    "    df_acf = pd.concat([df_acf, df_dict], ignore_index=True)\n",
    "\n",
    "\n",
    "\n",
    "f, ax = plt.subplots(1,1, figsize = (3,2))\n",
    "\n",
    "for g, d in df_acf.groupby('celltype'):\n",
    "    print(g)\n",
    "    ax.errorbar(x = d.E_V_cm.values[:-1]*100,\n",
    "                   y = [np.mean(x) for x in d.autocorr_2.values][:-1], \n",
    "                   yerr = [np.std(x)/np.sqrt(len(x)) for x in d.autocorr_2.values][:-1],\n",
    "                   label = g, \n",
    "                  zorder = 10, lw = 1.25, marker = 'o', markersize = 4,\n",
    "                color = color_dict[g])\n",
    "\n",
    "    \n",
    "plt.xlim(-5,350)\n",
    "plt.ylim(-0.05,0.5)\n",
    "\n",
    "# plt.legend()\n",
    "\n",
    "\n",
    "ax.hlines(0,0,400, zorder = 0, color = 'k', linestyle = '--')\n",
    "\n",
    "ax.set_xlabel('electric field strength (mV/mm)')\n",
    "ax.set_ylabel('directional\\nautocorrelation\\n(6 min. time lag)')\n",
    "\n",
    "\n",
    "# # Shrink current axis by 20%\n",
    "# box = ax.get_position()\n",
    "# ax.set_position([box.x0, box.y0, box.width * 0.8, box.height])\n",
    "\n",
    "# Put a legend to the right of the current axis\n",
    "# ax.legend(loc='center left', bbox_to_anchor=(1, 0.5))\n",
    "\n",
    "# plt.savefig('../../figures/Figure5_autocorr_.pdf')"
   ]
  },
  {
   "cell_type": "code",
   "execution_count": null,
   "id": "c2c81195-d222-49b6-9b63-b94942f20334",
   "metadata": {},
   "outputs": [],
   "source": []
  }
 ],
 "metadata": {
  "kernelspec": {
   "display_name": "Python 3 (ipykernel)",
   "language": "python",
   "name": "python3"
  },
  "language_info": {
   "codemirror_mode": {
    "name": "ipython",
    "version": 3
   },
   "file_extension": ".py",
   "mimetype": "text/x-python",
   "name": "python",
   "nbconvert_exporter": "python",
   "pygments_lexer": "ipython3",
   "version": "3.9.13"
  }
 },
 "nbformat": 4,
 "nbformat_minor": 5
}
